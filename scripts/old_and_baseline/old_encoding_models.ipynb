{
 "cells": [
  {
   "attachments": {},
   "cell_type": "markdown",
   "metadata": {},
   "source": [
    "# Setup"
   ]
  },
  {
   "attachments": {},
   "cell_type": "markdown",
   "metadata": {},
   "source": [
    "Select Platform"
   ]
  },
  {
   "cell_type": "code",
   "execution_count": 1,
   "metadata": {},
   "outputs": [],
   "source": [
    "platform = 'jupyter_notebook' #@param ['colab', 'jupyter_notebook'] {allow-input: true}"
   ]
  },
  {
   "attachments": {},
   "cell_type": "markdown",
   "metadata": {},
   "source": [
    "Import Libraries"
   ]
  },
  {
   "cell_type": "code",
   "execution_count": 1,
   "metadata": {},
   "outputs": [],
   "source": [
    "import os\n",
    "import numpy as np\n",
    "from pathlib import Path\n",
    "from PIL import Image\n",
    "from tqdm import tqdm\n",
    "import matplotlib\n",
    "from matplotlib import pyplot as plt\n",
    "from nilearn import datasets\n",
    "from nilearn import plotting\n",
    "import nibabel as nib\n",
    "import torch\n",
    "from torch.utils.data import DataLoader, Dataset\n",
    "from torchvision.models.feature_extraction import create_feature_extractor, get_graph_node_names\n",
    "from torchvision.models import AlexNet_Weights, VGG16_Weights, VGG16_BN_Weights\n",
    "from torchvision import transforms\n",
    "from sklearn.decomposition import IncrementalPCA\n",
    "from sklearn.linear_model import LinearRegression, Ridge\n",
    "from scipy.stats import pearsonr as corr"
   ]
  },
  {
   "attachments": {},
   "cell_type": "markdown",
   "metadata": {},
   "source": [
    "Platform Definition (jupyter or colab)"
   ]
  },
  {
   "cell_type": "code",
   "execution_count": 3,
   "metadata": {},
   "outputs": [],
   "source": [
    "if platform == 'jupyter_notebook':\n",
    "    # data_dir = '../../../Projects/Datasets/Biomedical/algonauts_2023_challenge_data'\n",
    "    # Data folder definition\n",
    "    data_dir = '../../Datasets/Biomedical/algonauts_2023_challenge_data'\n",
    "    # Used to save the prediction of saved model\n",
    "    parent_submission_dir = '../algonauts_2023_challenge_submission'\n",
    "    ncsnr_dir = '../../Datasets/Biomedical/algonauts_ncsnr'\n",
    "    images_trials = '../../Datasets/Biomedical/algonauts_train_images_trials'"
   ]
  },
  {
   "attachments": {},
   "cell_type": "markdown",
   "metadata": {},
   "source": [
    "Select CPU or GPU and verify the selected device"
   ]
  },
  {
   "cell_type": "code",
   "execution_count": 4,
   "metadata": {},
   "outputs": [],
   "source": [
    "device = 'cuda' #@param ['cpu', 'cuda'] {allow-input: true}\n",
    "device = torch.device(device)"
   ]
  },
  {
   "attachments": {},
   "cell_type": "markdown",
   "metadata": {},
   "source": [
    "### Test CUDA and Pytorch"
   ]
  },
  {
   "cell_type": "code",
   "execution_count": 7,
   "metadata": {},
   "outputs": [
    {
     "name": "stdout",
     "output_type": "stream",
     "text": [
      "True\n",
      "1\n",
      "0\n",
      "<torch.cuda.device object at 0x000001939E531160>\n",
      "NVIDIA GeForce RTX 3070 Laptop GPU\n"
     ]
    }
   ],
   "source": [
    "print(torch.cuda.is_available())\n",
    "\n",
    "print(torch.cuda.device_count())\n",
    "\n",
    "print(torch.cuda.current_device())\n",
    "\n",
    "print(torch.cuda.device(0))\n",
    "\n",
    "print(torch.cuda.get_device_name(0))"
   ]
  },
  {
   "cell_type": "code",
   "execution_count": 20,
   "metadata": {},
   "outputs": [
    {
     "name": "stdout",
     "output_type": "stream",
     "text": [
      "Pytorch version：\n",
      "1.13.0\n",
      "CUDA Version: \n",
      "11.6\n",
      "cuDNN version is :\n",
      "8302\n"
     ]
    }
   ],
   "source": [
    "print(\"Pytorch version：\")\n",
    "print(torch.__version__)\n",
    "print(\"CUDA Version: \")\n",
    "print(torch.version.cuda)\n",
    "print(\"cuDNN version is :\")\n",
    "print(torch.backends.cudnn.version())"
   ]
  },
  {
   "attachments": {},
   "cell_type": "markdown",
   "metadata": {},
   "source": [
    "# Data Loading"
   ]
  },
  {
   "attachments": {},
   "cell_type": "markdown",
   "metadata": {},
   "source": [
    "## Setup"
   ]
  },
  {
   "attachments": {},
   "cell_type": "markdown",
   "metadata": {},
   "source": [
    "To start, choose which of the 8 subjects you will use."
   ]
  },
  {
   "cell_type": "code",
   "execution_count": 5,
   "metadata": {},
   "outputs": [],
   "source": [
    "subj = 1 #@param [\"1\", \"2\", \"3\", \"4\", \"5\", \"6\", \"7\", \"8\"] {type:\"raw\", allow-input: true}"
   ]
  },
  {
   "attachments": {},
   "cell_type": "markdown",
   "metadata": {},
   "source": [
    "Let's define some paths that we will need for loading and storing data."
   ]
  },
  {
   "cell_type": "code",
   "execution_count": 6,
   "metadata": {},
   "outputs": [],
   "source": [
    "class argObj:\n",
    "  def __init__(self, data_dir, parent_submission_dir, subj, parent_ncsnr_dir = ncsnr_dir, images_trials_parent_dir = images_trials):\n",
    "    # Define the dir where data is stored\n",
    "    # 1 became 01\n",
    "    self.subj = format(subj, '02') # '0numberofchars'\n",
    "    self.data_dir = os.path.join(data_dir, 'subj'+self.subj)\n",
    "\n",
    "    # NCSNR\n",
    "    self.parent_ncsnr_dir = parent_ncsnr_dir\n",
    "    self.ncsnr_dir = os.path.join(self.parent_ncsnr_dir, 'subj'+self.subj)\n",
    "    \n",
    "    # SUBMISSION DIR\n",
    "    self.parent_submission_dir = parent_submission_dir\n",
    "    self.subject_submission_dir = os.path.join(self.parent_submission_dir,\n",
    "        'subj'+self.subj)\n",
    "    # Create the submission directory if not existing\n",
    "    if not os.path.isdir(self.subject_submission_dir):\n",
    "        os.makedirs(self.subject_submission_dir)\n",
    "\n",
    "    # Train Images Trials \n",
    "    self.images_trials_parent_dir = images_trials_parent_dir\n",
    "    self.images_trials_dir = os.path.join(self.images_trials_parent_dir, 'subj'+self.subj)\n",
    "    \n",
    "args = argObj(data_dir, parent_submission_dir, subj)"
   ]
  },
  {
   "attachments": {},
   "cell_type": "markdown",
   "metadata": {},
   "source": [
    "## fMRI Pre-processed Training Data"
   ]
  },
  {
   "attachments": {},
   "cell_type": "markdown",
   "metadata": {},
   "source": [
    "Load the fMRI response for the selected subject\n",
    "- Response vectors are divided in left and right emisphere"
   ]
  },
  {
   "cell_type": "code",
   "execution_count": 7,
   "metadata": {},
   "outputs": [
    {
     "name": "stdout",
     "output_type": "stream",
     "text": [
      "LH training fMRI data shape:\n",
      "(9841, 19004)\n",
      "(Training stimulus images × LH vertices)\n",
      "\n",
      "RH training fMRI data shape:\n",
      "(9841, 20544)\n",
      "(Training stimulus images × RH vertices)\n"
     ]
    }
   ],
   "source": [
    "fmri_dir = os.path.join(args.data_dir, 'training_split', 'training_fmri')\n",
    "lh_fmri = np.load(os.path.join(fmri_dir, 'lh_training_fmri.npy'))\n",
    "rh_fmri = np.load(os.path.join(fmri_dir, 'rh_training_fmri.npy'))\n",
    "\n",
    "print('LH training fMRI data shape:')\n",
    "print(lh_fmri.shape)\n",
    "print('(Training stimulus images × LH vertices)')\n",
    "\n",
    "print('\\nRH training fMRI data shape:')\n",
    "print(rh_fmri.shape)\n",
    "print('(Training stimulus images × RH vertices)')"
   ]
  },
  {
   "attachments": {},
   "cell_type": "markdown",
   "metadata": {},
   "source": [
    "### Responses Exploration"
   ]
  },
  {
   "cell_type": "code",
   "execution_count": 33,
   "metadata": {},
   "outputs": [
    {
     "name": "stdout",
     "output_type": "stream",
     "text": [
      "Mean: 0.0016644258\n",
      "Standard Deviation: 0.7087964\n",
      "Variance: 0.50239235\n",
      "Max: 6.3958163\n",
      "Min: -5.5488534\n",
      "Median: 0.0039879945\n"
     ]
    }
   ],
   "source": [
    "print(\"Mean:\", np.mean(lh_fmri))\n",
    "print(\"Standard Deviation:\", np.std(lh_fmri))\n",
    "print(\"Variance:\", np.var(lh_fmri))\n",
    "print(\"Max:\", np.max(lh_fmri))\n",
    "print(\"Min:\", np.min(lh_fmri))\n",
    "print(\"Median:\", np.median(lh_fmri))"
   ]
  },
  {
   "cell_type": "code",
   "execution_count": 25,
   "metadata": {},
   "outputs": [
    {
     "name": "stdout",
     "output_type": "stream",
     "text": [
      "[[-0.8617882  -0.20318632 -0.62639767]\n",
      " [ 0.72242236 -0.2831422   0.92416   ]\n",
      " [-0.30844456 -0.9322294   1.7191527 ]]\n"
     ]
    }
   ],
   "source": [
    "print(lh_fmri[:3, :3])"
   ]
  },
  {
   "attachments": {},
   "cell_type": "markdown",
   "metadata": {},
   "source": [
    "## Stimulus Images"
   ]
  },
  {
   "attachments": {},
   "cell_type": "markdown",
   "metadata": {},
   "source": [
    "All images consist of natural scenes coming from the [COCO dataset][coco].\n",
    "\n",
    "The images are divided into a training and a test split (corresponding to the fMRI training and test data splits). The amount of training and test images varies between subjects.\n",
    "\n",
    "For more information on the images please see the [`README.txt`][readme] file accompanying the Challenge data.\n",
    "\n",
    "[coco]: https://cocodataset.org/#home\n",
    "[readme]: https://drive.google.com/file/d/16oLCaDmUBZuT6z_VGKO-qzwidYDE77Sg/view?usp=share_link"
   ]
  },
  {
   "cell_type": "code",
   "execution_count": 8,
   "metadata": {},
   "outputs": [
    {
     "name": "stdout",
     "output_type": "stream",
     "text": [
      "Training images: 9841\n",
      "Test images: 159\n"
     ]
    }
   ],
   "source": [
    "train_img_dir  = os.path.join(args.data_dir, 'training_split', 'training_images')\n",
    "test_img_dir  = os.path.join(args.data_dir, 'test_split', 'test_images')\n",
    "\n",
    "# Create lists will all training and test image file names, sorted\n",
    "train_img_list = os.listdir(train_img_dir)\n",
    "train_img_list.sort()\n",
    "test_img_list = os.listdir(test_img_dir)\n",
    "test_img_list.sort()\n",
    "print('Training images: ' + str(len(train_img_list)))\n",
    "print('Test images: ' + str(len(test_img_list)))"
   ]
  },
  {
   "cell_type": "markdown",
   "metadata": {},
   "source": [
    "The training and test images are stored in `.png` format. As an example, the first training image of subject 1 is named `train-0001_nsd-00013.png`.\n",
    "\n",
    "The first index (`'train-0001'`) orders the images so to match the stimulus images dimension of the fMRI training split data. This indexing starts from 1.\n",
    "\n",
    "The second index (`'nsd-00013'`) corresponds to the 73,000 NSD image IDs that you can use to map the image back to the [original `.hdf5` NSD image file][NSD_img_hdf5] (which contains all the 73,000 images used in the NSD experiment), and from there to the [COCO dataset][coco] images for metadata). The 73,000 NSD images IDs in the filename start from 0, so that you can directly use them for indexing the `.hdf5` NSD images in Python. Note that the images used in the NSD experiment (and here in the Algonauts 2023 Challenge) are cropped versions of the original COCO images. Therefore, if you wish to use the COCO image metadata you first need to adapt it to the cropped image coordinates. You can find code to perform this operation [here][coco_meta].\n",
    "\n",
    "[NSD_img_hdf5]: https://cvnlab.slite.page/p/NKalgWd__F/Experiments\n",
    "[coco]: https://cocodataset.org/#home\n",
    "[coco_meta]: https://github.com/styvesg/nsd_gnet8x/blob/main/data_preparation.ipynb"
   ]
  },
  {
   "attachments": {},
   "cell_type": "markdown",
   "metadata": {},
   "source": [
    "### **NSD ID Extraction**"
   ]
  },
  {
   "cell_type": "code",
   "execution_count": 32,
   "metadata": {},
   "outputs": [
    {
     "name": "stdout",
     "output_type": "stream",
     "text": [
      "Training image file name: train-0001_nsd-00013.png\n",
      "73k NSD images ID: 00013\n"
     ]
    }
   ],
   "source": [
    "train_img_file = train_img_list[0]\n",
    "print('Training image file name: ' + train_img_file)\n",
    "print('73k NSD images ID: ' + train_img_file[-9:-4])"
   ]
  },
  {
   "attachments": {},
   "cell_type": "markdown",
   "metadata": {},
   "source": [
    "# Train and Evaluate linearizing encoding models"
   ]
  },
  {
   "cell_type": "markdown",
   "metadata": {},
   "source": [
    "Now you will build and evaluate [linearizing encoding models][encoding] using a pretrained [AlexNet][alexnet] architecture. You will train these models on the training partition and cross-validated them on the validation partition (an independent partition of the training data). The linearizing encoding algorithm involves the following steps:\n",
    "\n",
    "1. Split the data into training, validation and test partitions.\n",
    "\n",
    "2. Extract and downsample image features from AlexNet.\n",
    "\n",
    "3. Linearly map the AlexNet image feature to fMRI responses. \n",
    "\n",
    "4. Evaluate and visualize the encoding model's prediction accuracy (i.e., encoding accuracy) using the validation partition.\n",
    "\n",
    "You will use the test partition only in the final section of this tutorial, to prepare the Challenge submission files.\n",
    "\n",
    "[encoding]: https://www.sciencedirect.com/science/article/pii/S1053811910010657\n",
    "[alexnet]: https://arxiv.org/abs/1404.5997"
   ]
  },
  {
   "attachments": {},
   "cell_type": "markdown",
   "metadata": {},
   "source": [
    "## 2.1 Data"
   ]
  },
  {
   "cell_type": "markdown",
   "metadata": {},
   "source": [
    "### 2.1.1 Create the training, validation and test partitions indices\n",
    "\n",
    "Here you will create the indices to randomly split the training data into a training (90% of the data) and validation (10% of the data) partition. You can enforce different random splits by editing the random seed variable (`rand_seed`)."
   ]
  },
  {
   "cell_type": "code",
   "execution_count": 9,
   "metadata": {},
   "outputs": [
    {
     "name": "stdout",
     "output_type": "stream",
     "text": [
      "Training stimulus images: 8857\n",
      "\n",
      "Validation stimulus images: 984\n",
      "\n",
      "Test stimulus images: 159\n"
     ]
    }
   ],
   "source": [
    "rand_seed = 5 #@param\n",
    "np.random.seed(rand_seed)\n",
    "train_percentage = 90\n",
    "\n",
    "# Calculate how many stimulus images correspond to 90% of the training data\n",
    "num_train = int(np.round(len(train_img_list) / 100 * train_percentage))\n",
    "# Shuffle all training stimulus images\n",
    "idxs = np.arange(len(train_img_list))\n",
    "np.random.shuffle(idxs)\n",
    "# Assign 90% of the shuffled stimulus images to the training partition,\n",
    "# and 10% to the test partition\n",
    "idxs_train, idxs_val = idxs[:num_train], idxs[num_train:]\n",
    "# No need to shuffle or split the test stimulus images\n",
    "idxs_test = np.arange(len(test_img_list))\n",
    "\n",
    "print('Training stimulus images: ' + format(len(idxs_train)))\n",
    "print('\\nValidation stimulus images: ' + format(len(idxs_val)))\n",
    "print('\\nTest stimulus images: ' + format(len(idxs_test)))"
   ]
  },
  {
   "attachments": {},
   "cell_type": "markdown",
   "metadata": {},
   "source": [
    "### 2.1.2 Create the training, validation and test image partitions DataLoaders\n",
    "\n",
    "We will use the `Dataset` and `DataLoader` classes from PyTorch to create our training, validation and test image partitions. You can read more about these type of classes and how to use them [here][data_tutorial_pytorch].\n",
    "\n",
    "Let's first define the preprocessing (transform) that will be applied to the images before feeding them to AlexNet. We will use a [standard preprocessing pipeline][preprocessing] as used in the computer vision literature.\n",
    "\n",
    "[data_tutorial_pytorch]: https://pytorch.org/tutorials/beginner/basics/data_tutorial.html\n",
    "[preprocessing]: https://pytorch.org/hub/pytorch_vision_alexnet/"
   ]
  },
  {
   "attachments": {},
   "cell_type": "markdown",
   "metadata": {},
   "source": [
    "**Preprocessing pipeline**"
   ]
  },
  {
   "cell_type": "code",
   "execution_count": 10,
   "metadata": {},
   "outputs": [],
   "source": [
    "transform = transforms.Compose([\n",
    "    transforms.Resize((224,224)), # resize the images to 224x224 pixels\n",
    "    transforms.ToTensor(), # convert the images to a PyTorch tensor\n",
    "    transforms.Normalize([0.485, 0.456, 0.406], [0.229, 0.224, 0.225]) \n",
    "    # normalize the images color channels\n",
    "    # mean: [0.485, 0.456, 0.406] for the three channels\n",
    "    # std: [0.229, 0.224, 0.225] for the three channels\n",
    "])"
   ]
  },
  {
   "attachments": {},
   "cell_type": "markdown",
   "metadata": {},
   "source": [
    "**Dataset class**: that will load, preprocess, and return an image at a time."
   ]
  },
  {
   "cell_type": "code",
   "execution_count": 11,
   "metadata": {},
   "outputs": [],
   "source": [
    "class ImageDataset(Dataset):\n",
    "    def __init__(self, imgs_paths, idxs, transform):\n",
    "        self.imgs_paths = np.array(imgs_paths)[idxs]\n",
    "        self.transform = transform\n",
    "\n",
    "    def __len__(self):\n",
    "        return len(self.imgs_paths)\n",
    "\n",
    "    def __getitem__(self, idx):\n",
    "        # Load the image\n",
    "        img_path = self.imgs_paths[idx]\n",
    "        img = Image.open(img_path).convert('RGB')\n",
    "        # Preprocess the image and send it to the chosen device ('cpu' or 'cuda')\n",
    "        if self.transform:\n",
    "            img = self.transform(img).to(device)\n",
    "        return img"
   ]
  },
  {
   "attachments": {},
   "cell_type": "markdown",
   "metadata": {},
   "source": [
    "We will now create a **DataLoader class** that allow us to iterate over batches of images. We use batches because loading and processing all images at once uses too much memory."
   ]
  },
  {
   "cell_type": "code",
   "execution_count": 12,
   "metadata": {},
   "outputs": [
    {
     "name": "stdout",
     "output_type": "stream",
     "text": [
      "Train images:  9841\n",
      "Remainder:  301\n",
      "Batch size:  318\n"
     ]
    }
   ],
   "source": [
    "# Create a list of 8000 zeros\n",
    "batch_size_min = 300\n",
    "batch_size_max = 350\n",
    "\n",
    "for batch_size in range(batch_size_min, batch_size_max + 1):\n",
    "    if len(train_img_list) % batch_size >= batch_size_min:\n",
    "        print(\"Train images: \", len(train_img_list))\n",
    "        print(\"Remainder: \", len(train_img_list) % batch_size)\n",
    "        print(\"Batch size: \", batch_size)\n",
    "        break"
   ]
  },
  {
   "cell_type": "code",
   "execution_count": 13,
   "metadata": {},
   "outputs": [],
   "source": [
    "# batch_size = 300 # 300 #@param (310 for 3 and 6, 300 for others)\n",
    "# Get the paths of all image files\n",
    "train_imgs_paths = sorted(list(Path(train_img_dir).iterdir()))\n",
    "test_imgs_paths = sorted(list(Path(test_img_dir).iterdir()))\n",
    "\n",
    "# The DataLoaders contain the ImageDataset class\n",
    "train_imgs_dataloader = DataLoader(\n",
    "    ImageDataset(train_imgs_paths, idxs_train, transform), \n",
    "    batch_size=batch_size\n",
    ")\n",
    "val_imgs_dataloader = DataLoader(\n",
    "    ImageDataset(train_imgs_paths, idxs_val, transform), \n",
    "    batch_size=batch_size\n",
    ")\n",
    "test_imgs_dataloader = DataLoader(\n",
    "    ImageDataset(test_imgs_paths, idxs_test, transform), \n",
    "    batch_size=batch_size\n",
    ")"
   ]
  },
  {
   "cell_type": "markdown",
   "metadata": {},
   "source": [
    "### 2.1.3 Split the fMRI data into training and validation partitions\n",
    "\n",
    "Here we will use the previously defined indices to split the training fMRI data into a training and validation partition."
   ]
  },
  {
   "cell_type": "code",
   "execution_count": 14,
   "metadata": {},
   "outputs": [],
   "source": [
    "lh_fmri_train = lh_fmri[idxs_train]\n",
    "lh_fmri_val = lh_fmri[idxs_val]\n",
    "rh_fmri_train = rh_fmri[idxs_train]\n",
    "rh_fmri_val = rh_fmri[idxs_val]"
   ]
  },
  {
   "cell_type": "markdown",
   "metadata": {},
   "source": [
    "Let's delete the original fMRI training split to free up RAM."
   ]
  },
  {
   "cell_type": "code",
   "execution_count": 30,
   "metadata": {},
   "outputs": [],
   "source": [
    "del lh_fmri, rh_fmri"
   ]
  },
  {
   "cell_type": "markdown",
   "metadata": {},
   "source": [
    "## 2.2 Extract and downsample image features from AlexNet\n",
    "\n",
    "In this step we will extract image features from a pretrained AlexNet, and downsample them to 100 PCA components to speed up computations in the the next encoding step (mapping of AlexNet feature onto fMRI features)."
   ]
  },
  {
   "attachments": {},
   "cell_type": "markdown",
   "metadata": {},
   "source": [
    "### 2.2.1 Load the pretrained AlexNet\n",
    "\n",
    "We will load the pretrained AlexNet from the [PyTorch Hub][pytorch_hub] and set it to evaluation mode since we will not be training this network.\n",
    "\n",
    "[pytorch_hub]: https://pytorch.org/hub/"
   ]
  },
  {
   "cell_type": "code",
   "execution_count": 15,
   "metadata": {},
   "outputs": [
    {
     "name": "stderr",
     "output_type": "stream",
     "text": [
      "Using cache found in C:\\Users\\giorg/.cache\\torch\\hub\\pytorch_vision_v0.10.0\n"
     ]
    },
    {
     "data": {
      "text/plain": [
       "AlexNet(\n",
       "  (features): Sequential(\n",
       "    (0): Conv2d(3, 64, kernel_size=(11, 11), stride=(4, 4), padding=(2, 2))\n",
       "    (1): ReLU(inplace=True)\n",
       "    (2): MaxPool2d(kernel_size=3, stride=2, padding=0, dilation=1, ceil_mode=False)\n",
       "    (3): Conv2d(64, 192, kernel_size=(5, 5), stride=(1, 1), padding=(2, 2))\n",
       "    (4): ReLU(inplace=True)\n",
       "    (5): MaxPool2d(kernel_size=3, stride=2, padding=0, dilation=1, ceil_mode=False)\n",
       "    (6): Conv2d(192, 384, kernel_size=(3, 3), stride=(1, 1), padding=(1, 1))\n",
       "    (7): ReLU(inplace=True)\n",
       "    (8): Conv2d(384, 256, kernel_size=(3, 3), stride=(1, 1), padding=(1, 1))\n",
       "    (9): ReLU(inplace=True)\n",
       "    (10): Conv2d(256, 256, kernel_size=(3, 3), stride=(1, 1), padding=(1, 1))\n",
       "    (11): ReLU(inplace=True)\n",
       "    (12): MaxPool2d(kernel_size=3, stride=2, padding=0, dilation=1, ceil_mode=False)\n",
       "  )\n",
       "  (avgpool): AdaptiveAvgPool2d(output_size=(6, 6))\n",
       "  (classifier): Sequential(\n",
       "    (0): Dropout(p=0.5, inplace=False)\n",
       "    (1): Linear(in_features=9216, out_features=4096, bias=True)\n",
       "    (2): ReLU(inplace=True)\n",
       "    (3): Dropout(p=0.5, inplace=False)\n",
       "    (4): Linear(in_features=4096, out_features=4096, bias=True)\n",
       "    (5): ReLU(inplace=True)\n",
       "    (6): Linear(in_features=4096, out_features=1000, bias=True)\n",
       "  )\n",
       ")"
      ]
     },
     "execution_count": 15,
     "metadata": {},
     "output_type": "execute_result"
    }
   ],
   "source": [
    "model = torch.hub.load('pytorch/vision:v0.10.0', 'alexnet', weights=AlexNet_Weights.IMAGENET1K_V1)\n",
    "model.to(device) # send the model to the chosen device ('cpu' or 'cuda')\n",
    "model.eval() # set the model to evaluation mode, since you are not training it"
   ]
  },
  {
   "cell_type": "markdown",
   "metadata": {},
   "source": [
    "AlexNet is composed of 5 convolutional layers (contained in a submodule called 'features') and 3 linear layers (contained in a submodule named 'classifier').\n",
    "\n",
    "First let's print the AlexNet layer names of the PyTorch implementation."
   ]
  },
  {
   "cell_type": "code",
   "execution_count": 18,
   "metadata": {},
   "outputs": [
    {
     "name": "stdout",
     "output_type": "stream",
     "text": [
      "['x', 'features.0', 'features.1', 'features.2', 'features.3', 'features.4', 'features.5', 'features.6', 'features.7', 'features.8', 'features.9', 'features.10', 'features.11', 'features.12', 'avgpool', 'flatten', 'classifier.0', 'classifier.1', 'classifier.2', 'classifier.3', 'classifier.4', 'classifier.5', 'classifier.6']\n"
     ]
    }
   ],
   "source": [
    "train_nodes, _ = get_graph_node_names(model)\n",
    "print(train_nodes)"
   ]
  },
  {
   "attachments": {},
   "cell_type": "markdown",
   "metadata": {},
   "source": [
    "### 2.2.2 Extract and downsample the AlexNet features\n",
    "\n",
    "We will now extract the image features of an AlexNet layer of your choice, and reduce their size using PCA.\n",
    "\n",
    "To extract the features, we will use the PyTorch function [`create_feature_extractor`][extract_feat].\n",
    "\n",
    "1. First, choose the AlexNet layer you wish to use.\n",
    "   -  The base choice is `features.2` → which correspond to the **MaxPool Layer of the FIrst Convolutional Block**\n",
    "   - `(2): MaxPool2d(kernel_size=3, stride=2, padding=0, dilation=1, ceil_mode=False)`\n",
    "\n",
    "[extract_feat]: https://pytorch.org/vision/stable/feature_extraction.html"
   ]
  },
  {
   "cell_type": "code",
   "execution_count": 16,
   "metadata": {},
   "outputs": [],
   "source": [
    "model_layer = \"features.12\" #@param [\"features.2\", \"features.5\", \"features.7\", \"features.9\", \"features.12\", \"classifier.2\", \"classifier.5\", \"classifier.6\"] {allow-input: true}\n",
    "feature_extractor = create_feature_extractor(model, return_nodes=[model_layer])"
   ]
  },
  {
   "attachments": {},
   "cell_type": "markdown",
   "metadata": {},
   "source": [
    "The size of the feature vectors we want to extract is very large, so we will use a dimensionality reduction technique (in this case PCA) to overcome this problem. We will fit the PCA on the training images features, and use it to downsample the training, validation and test images features.\n",
    "\n",
    "In an *ideal scenario with no RAM limitations, we would compute the PCA and transform all images of the training set simultaneously*. Since we do have this restriction, we will do a **batch-wise partial computation of the PCA** (see [`IncrementalPCA`][pca] for more info).\n",
    "\n",
    "The following function extracts the AlexNet features from each image batch, and partially computes the PCA.\n",
    "\n",
    "[pca]: https://scikit-learn.org/stable/modules/generated/sklearn.decomposition.IncrementalPCA.html"
   ]
  },
  {
   "cell_type": "code",
   "execution_count": 17,
   "metadata": {},
   "outputs": [],
   "source": [
    "def fit_pca(feature_extractor, dataloader):\n",
    "\n",
    "    # Define PCA parameters\n",
    "    pca = IncrementalPCA(n_components=100, batch_size=batch_size)\n",
    "\n",
    "    # Fit PCA to batch\n",
    "    for _, d in tqdm(enumerate(dataloader), total=len(dataloader)):\n",
    "        # Extract features\n",
    "        ft = feature_extractor(d)\n",
    "        # Flatten the features\n",
    "        ft = torch.hstack([torch.flatten(l, start_dim=1) for l in ft.values()])\n",
    "        # Fit PCA to batch\n",
    "        pca.partial_fit(ft.detach().cpu().numpy())\n",
    "    return pca"
   ]
  },
  {
   "cell_type": "markdown",
   "metadata": {},
   "source": [
    "Let's fit the PCA on the training partition images features. This step can take longer or shorter depending on the AlexNet layer you chose to use for the encoding, and on your computing resources. "
   ]
  },
  {
   "cell_type": "code",
   "execution_count": 19,
   "metadata": {},
   "outputs": [
    {
     "name": "stderr",
     "output_type": "stream",
     "text": [
      "100%|██████████| 28/28 [02:29<00:00,  5.35s/it]\n"
     ]
    }
   ],
   "source": [
    "pca = fit_pca(feature_extractor, train_imgs_dataloader)"
   ]
  },
  {
   "cell_type": "markdown",
   "metadata": {},
   "source": [
    "Now that we fitted our PCA model, we will use it do reduce the dimensionality of the training, validation and test images features.\n",
    "\n",
    "Unfortunately, due to memory limits we will have to extract the AlexNet image features from each batch again to downsample them."
   ]
  },
  {
   "cell_type": "code",
   "execution_count": 20,
   "metadata": {},
   "outputs": [],
   "source": [
    "def extract_features(feature_extractor, dataloader, pca):\n",
    "\n",
    "    features = []\n",
    "    for _, d in tqdm(enumerate(dataloader), total=len(dataloader)):\n",
    "        # Extract features\n",
    "        ft = feature_extractor(d)\n",
    "        # Flatten the features\n",
    "        ft = torch.hstack([torch.flatten(l, start_dim=1) for l in ft.values()])\n",
    "        # Apply PCA transform\n",
    "        ft = pca.transform(ft.cpu().detach().numpy())\n",
    "        features.append(ft)\n",
    "    return np.vstack(features)"
   ]
  },
  {
   "cell_type": "code",
   "execution_count": 21,
   "metadata": {},
   "outputs": [
    {
     "name": "stderr",
     "output_type": "stream",
     "text": [
      "100%|██████████| 28/28 [01:46<00:00,  3.82s/it]\n",
      "100%|██████████| 4/4 [00:19<00:00,  4.78s/it]\n",
      "100%|██████████| 1/1 [00:03<00:00,  3.08s/it]\n"
     ]
    }
   ],
   "source": [
    "features_train = extract_features(feature_extractor, train_imgs_dataloader, pca)\n",
    "features_val = extract_features(feature_extractor, val_imgs_dataloader, pca)\n",
    "features_test = extract_features(feature_extractor, test_imgs_dataloader, pca)"
   ]
  },
  {
   "cell_type": "code",
   "execution_count": 22,
   "metadata": {},
   "outputs": [
    {
     "name": "stdout",
     "output_type": "stream",
     "text": [
      "\n",
      "Training images features:\n",
      "(8857, 100)\n",
      "(Training stimulus images × PCA features)\n",
      "\n",
      "Validation images features:\n",
      "(984, 100)\n",
      "(Validation stimulus images × PCA features)\n",
      "\n",
      "Test images features:\n",
      "(159, 100)\n",
      "(Test stimulus images × PCA features)\n"
     ]
    }
   ],
   "source": [
    "print('\\nTraining images features:')\n",
    "print(features_train.shape)\n",
    "print('(Training stimulus images × PCA features)')\n",
    "\n",
    "print('\\nValidation images features:')\n",
    "print(features_val.shape)\n",
    "print('(Validation stimulus images × PCA features)')\n",
    "\n",
    "print('\\nTest images features:')\n",
    "print(features_test.shape)\n",
    "print('(Test stimulus images × PCA features)')"
   ]
  },
  {
   "cell_type": "markdown",
   "metadata": {},
   "source": [
    "Let's free up RAM by deleting the AlexNet model and PCA parameters."
   ]
  },
  {
   "cell_type": "code",
   "execution_count": 23,
   "metadata": {},
   "outputs": [],
   "source": [
    "del model, pca"
   ]
  },
  {
   "attachments": {},
   "cell_type": "markdown",
   "metadata": {},
   "source": [
    "### Load the pre-trained efficient-netb2"
   ]
  },
  {
   "cell_type": "code",
   "execution_count": null,
   "metadata": {},
   "outputs": [],
   "source": [
    "from torchvision.models import EfficientNet_B2_Weights\n",
    "from torchvision import models\n",
    "model = models.efficientnet_b2(weights = EfficientNet_B2_Weights.IMAGENET1K_V1)\n",
    "model.to(device) # send the model to the chosen device ('cpu' or 'cuda')\n",
    "model.eval() # set the model to evaluation mode, since you are not training it\n"
   ]
  },
  {
   "cell_type": "code",
   "execution_count": 6,
   "metadata": {},
   "outputs": [
    {
     "name": "stdout",
     "output_type": "stream",
     "text": [
      "['x', 'features.0', 'features.1.0.block.0', 'features.1.0.block.1', 'features.1.0.block.2', 'features.1.1.block.0', 'features.1.1.block.1', 'features.1.1.block.2', 'features.1.1.stochastic_depth', 'features.1.1.add', 'features.2.0.block.0', 'features.2.0.block.1', 'features.2.0.block.2', 'features.2.0.block.3', 'features.2.1.block.0', 'features.2.1.block.1', 'features.2.1.block.2', 'features.2.1.block.3', 'features.2.1.stochastic_depth', 'features.2.1.add', 'features.2.2.block.0', 'features.2.2.block.1', 'features.2.2.block.2', 'features.2.2.block.3', 'features.2.2.stochastic_depth', 'features.2.2.add', 'features.3.0.block.0', 'features.3.0.block.1', 'features.3.0.block.2', 'features.3.0.block.3', 'features.3.1.block.0', 'features.3.1.block.1', 'features.3.1.block.2', 'features.3.1.block.3', 'features.3.1.stochastic_depth', 'features.3.1.add', 'features.3.2.block.0', 'features.3.2.block.1', 'features.3.2.block.2', 'features.3.2.block.3', 'features.3.2.stochastic_depth', 'features.3.2.add', 'features.4.0.block.0', 'features.4.0.block.1', 'features.4.0.block.2', 'features.4.0.block.3', 'features.4.1.block.0', 'features.4.1.block.1', 'features.4.1.block.2', 'features.4.1.block.3', 'features.4.1.stochastic_depth', 'features.4.1.add', 'features.4.2.block.0', 'features.4.2.block.1', 'features.4.2.block.2', 'features.4.2.block.3', 'features.4.2.stochastic_depth', 'features.4.2.add', 'features.4.3.block.0', 'features.4.3.block.1', 'features.4.3.block.2', 'features.4.3.block.3', 'features.4.3.stochastic_depth', 'features.4.3.add', 'features.5.0.block.0', 'features.5.0.block.1', 'features.5.0.block.2', 'features.5.0.block.3', 'features.5.1.block.0', 'features.5.1.block.1', 'features.5.1.block.2', 'features.5.1.block.3', 'features.5.1.stochastic_depth', 'features.5.1.add', 'features.5.2.block.0', 'features.5.2.block.1', 'features.5.2.block.2', 'features.5.2.block.3', 'features.5.2.stochastic_depth', 'features.5.2.add', 'features.5.3.block.0', 'features.5.3.block.1', 'features.5.3.block.2', 'features.5.3.block.3', 'features.5.3.stochastic_depth', 'features.5.3.add', 'features.6.0.block.0', 'features.6.0.block.1', 'features.6.0.block.2', 'features.6.0.block.3', 'features.6.1.block.0', 'features.6.1.block.1', 'features.6.1.block.2', 'features.6.1.block.3', 'features.6.1.stochastic_depth', 'features.6.1.add', 'features.6.2.block.0', 'features.6.2.block.1', 'features.6.2.block.2', 'features.6.2.block.3', 'features.6.2.stochastic_depth', 'features.6.2.add', 'features.6.3.block.0', 'features.6.3.block.1', 'features.6.3.block.2', 'features.6.3.block.3', 'features.6.3.stochastic_depth', 'features.6.3.add', 'features.6.4.block.0', 'features.6.4.block.1', 'features.6.4.block.2', 'features.6.4.block.3', 'features.6.4.stochastic_depth', 'features.6.4.add', 'features.7.0.block.0', 'features.7.0.block.1', 'features.7.0.block.2', 'features.7.0.block.3', 'features.7.1.block.0', 'features.7.1.block.1', 'features.7.1.block.2', 'features.7.1.block.3', 'features.7.1.stochastic_depth', 'features.7.1.add', 'features.8', 'avgpool', 'flatten', 'classifier.0', 'classifier.1']\n"
     ]
    }
   ],
   "source": [
    "train_nodes, _ = get_graph_node_names(model)\n",
    "print(train_nodes)"
   ]
  },
  {
   "attachments": {},
   "cell_type": "markdown",
   "metadata": {},
   "source": [
    "### Load the pre-trained VGG-16"
   ]
  },
  {
   "cell_type": "code",
   "execution_count": 7,
   "metadata": {},
   "outputs": [
    {
     "name": "stderr",
     "output_type": "stream",
     "text": [
      "Using cache found in C:\\Users\\giorg/.cache\\torch\\hub\\pytorch_vision_v0.10.0\n"
     ]
    },
    {
     "data": {
      "text/plain": [
       "VGG(\n",
       "  (features): Sequential(\n",
       "    (0): Conv2d(3, 64, kernel_size=(3, 3), stride=(1, 1), padding=(1, 1))\n",
       "    (1): BatchNorm2d(64, eps=1e-05, momentum=0.1, affine=True, track_running_stats=True)\n",
       "    (2): ReLU(inplace=True)\n",
       "    (3): Conv2d(64, 64, kernel_size=(3, 3), stride=(1, 1), padding=(1, 1))\n",
       "    (4): BatchNorm2d(64, eps=1e-05, momentum=0.1, affine=True, track_running_stats=True)\n",
       "    (5): ReLU(inplace=True)\n",
       "    (6): MaxPool2d(kernel_size=2, stride=2, padding=0, dilation=1, ceil_mode=False)\n",
       "    (7): Conv2d(64, 128, kernel_size=(3, 3), stride=(1, 1), padding=(1, 1))\n",
       "    (8): BatchNorm2d(128, eps=1e-05, momentum=0.1, affine=True, track_running_stats=True)\n",
       "    (9): ReLU(inplace=True)\n",
       "    (10): Conv2d(128, 128, kernel_size=(3, 3), stride=(1, 1), padding=(1, 1))\n",
       "    (11): BatchNorm2d(128, eps=1e-05, momentum=0.1, affine=True, track_running_stats=True)\n",
       "    (12): ReLU(inplace=True)\n",
       "    (13): MaxPool2d(kernel_size=2, stride=2, padding=0, dilation=1, ceil_mode=False)\n",
       "    (14): Conv2d(128, 256, kernel_size=(3, 3), stride=(1, 1), padding=(1, 1))\n",
       "    (15): BatchNorm2d(256, eps=1e-05, momentum=0.1, affine=True, track_running_stats=True)\n",
       "    (16): ReLU(inplace=True)\n",
       "    (17): Conv2d(256, 256, kernel_size=(3, 3), stride=(1, 1), padding=(1, 1))\n",
       "    (18): BatchNorm2d(256, eps=1e-05, momentum=0.1, affine=True, track_running_stats=True)\n",
       "    (19): ReLU(inplace=True)\n",
       "    (20): Conv2d(256, 256, kernel_size=(3, 3), stride=(1, 1), padding=(1, 1))\n",
       "    (21): BatchNorm2d(256, eps=1e-05, momentum=0.1, affine=True, track_running_stats=True)\n",
       "    (22): ReLU(inplace=True)\n",
       "    (23): MaxPool2d(kernel_size=2, stride=2, padding=0, dilation=1, ceil_mode=False)\n",
       "    (24): Conv2d(256, 512, kernel_size=(3, 3), stride=(1, 1), padding=(1, 1))\n",
       "    (25): BatchNorm2d(512, eps=1e-05, momentum=0.1, affine=True, track_running_stats=True)\n",
       "    (26): ReLU(inplace=True)\n",
       "    (27): Conv2d(512, 512, kernel_size=(3, 3), stride=(1, 1), padding=(1, 1))\n",
       "    (28): BatchNorm2d(512, eps=1e-05, momentum=0.1, affine=True, track_running_stats=True)\n",
       "    (29): ReLU(inplace=True)\n",
       "    (30): Conv2d(512, 512, kernel_size=(3, 3), stride=(1, 1), padding=(1, 1))\n",
       "    (31): BatchNorm2d(512, eps=1e-05, momentum=0.1, affine=True, track_running_stats=True)\n",
       "    (32): ReLU(inplace=True)\n",
       "    (33): MaxPool2d(kernel_size=2, stride=2, padding=0, dilation=1, ceil_mode=False)\n",
       "    (34): Conv2d(512, 512, kernel_size=(3, 3), stride=(1, 1), padding=(1, 1))\n",
       "    (35): BatchNorm2d(512, eps=1e-05, momentum=0.1, affine=True, track_running_stats=True)\n",
       "    (36): ReLU(inplace=True)\n",
       "    (37): Conv2d(512, 512, kernel_size=(3, 3), stride=(1, 1), padding=(1, 1))\n",
       "    (38): BatchNorm2d(512, eps=1e-05, momentum=0.1, affine=True, track_running_stats=True)\n",
       "    (39): ReLU(inplace=True)\n",
       "    (40): Conv2d(512, 512, kernel_size=(3, 3), stride=(1, 1), padding=(1, 1))\n",
       "    (41): BatchNorm2d(512, eps=1e-05, momentum=0.1, affine=True, track_running_stats=True)\n",
       "    (42): ReLU(inplace=True)\n",
       "    (43): MaxPool2d(kernel_size=2, stride=2, padding=0, dilation=1, ceil_mode=False)\n",
       "  )\n",
       "  (avgpool): AdaptiveAvgPool2d(output_size=(7, 7))\n",
       "  (classifier): Sequential(\n",
       "    (0): Linear(in_features=25088, out_features=4096, bias=True)\n",
       "    (1): ReLU(inplace=True)\n",
       "    (2): Dropout(p=0.5, inplace=False)\n",
       "    (3): Linear(in_features=4096, out_features=4096, bias=True)\n",
       "    (4): ReLU(inplace=True)\n",
       "    (5): Dropout(p=0.5, inplace=False)\n",
       "    (6): Linear(in_features=4096, out_features=1000, bias=True)\n",
       "  )\n",
       ")"
      ]
     },
     "execution_count": 7,
     "metadata": {},
     "output_type": "execute_result"
    }
   ],
   "source": [
    "model = torch.hub.load('pytorch/vision:v0.10.0', \n",
    "                        'vgg16_bn', \n",
    "                        weights=VGG16_BN_Weights.IMAGENET1K_V1)\n",
    "model.to(device) # send the model to the chosen device ('cpu' or 'cuda')\n",
    "model.eval() # set the model to evaluation mode, since you are not training it"
   ]
  },
  {
   "cell_type": "code",
   "execution_count": 8,
   "metadata": {},
   "outputs": [
    {
     "name": "stdout",
     "output_type": "stream",
     "text": [
      "['x', 'features.0', 'features.1', 'features.2', 'features.3', 'features.4', 'features.5', 'features.6', 'features.7', 'features.8', 'features.9', 'features.10', 'features.11', 'features.12', 'features.13', 'features.14', 'features.15', 'features.16', 'features.17', 'features.18', 'features.19', 'features.20', 'features.21', 'features.22', 'features.23', 'features.24', 'features.25', 'features.26', 'features.27', 'features.28', 'features.29', 'features.30', 'features.31', 'features.32', 'features.33', 'features.34', 'features.35', 'features.36', 'features.37', 'features.38', 'features.39', 'features.40', 'features.41', 'features.42', 'features.43', 'avgpool', 'flatten', 'classifier.0', 'classifier.1', 'classifier.2', 'classifier.3', 'classifier.4', 'classifier.5', 'classifier.6']\n"
     ]
    }
   ],
   "source": [
    "train_nodes, _ = get_graph_node_names(model)\n",
    "print(train_nodes)"
   ]
  },
  {
   "cell_type": "code",
   "execution_count": null,
   "metadata": {},
   "outputs": [],
   "source": [
    "model = torch.hub.load('pytorch/vision:v0.10.0', \n",
    "                        'vgg16', \n",
    "                        weights=VGG16_Weights.IMAGENET1K_V1)\n",
    "model.to(device) # send the model to the chosen device ('cpu' or 'cuda')\n",
    "model.eval() # set the model to evaluation mode, since you are not training it"
   ]
  },
  {
   "cell_type": "code",
   "execution_count": 6,
   "metadata": {},
   "outputs": [
    {
     "name": "stderr",
     "output_type": "stream",
     "text": [
      "Using cache found in C:\\Users\\giorg/.cache\\torch\\hub\\pytorch_vision_v0.10.0\n",
      "Downloading: \"https://download.pytorch.org/models/vgg19-dcbb9e9d.pth\" to C:\\Users\\giorg/.cache\\torch\\hub\\checkpoints\\vgg19-dcbb9e9d.pth\n"
     ]
    },
    {
     "data": {
      "application/vnd.jupyter.widget-view+json": {
       "model_id": "fb490505c86142018280ad9ec2d09f4f",
       "version_major": 2,
       "version_minor": 0
      },
      "text/plain": [
       "  0%|          | 0.00/548M [00:00<?, ?B/s]"
      ]
     },
     "metadata": {},
     "output_type": "display_data"
    },
    {
     "data": {
      "text/plain": [
       "VGG(\n",
       "  (features): Sequential(\n",
       "    (0): Conv2d(3, 64, kernel_size=(3, 3), stride=(1, 1), padding=(1, 1))\n",
       "    (1): ReLU(inplace=True)\n",
       "    (2): Conv2d(64, 64, kernel_size=(3, 3), stride=(1, 1), padding=(1, 1))\n",
       "    (3): ReLU(inplace=True)\n",
       "    (4): MaxPool2d(kernel_size=2, stride=2, padding=0, dilation=1, ceil_mode=False)\n",
       "    (5): Conv2d(64, 128, kernel_size=(3, 3), stride=(1, 1), padding=(1, 1))\n",
       "    (6): ReLU(inplace=True)\n",
       "    (7): Conv2d(128, 128, kernel_size=(3, 3), stride=(1, 1), padding=(1, 1))\n",
       "    (8): ReLU(inplace=True)\n",
       "    (9): MaxPool2d(kernel_size=2, stride=2, padding=0, dilation=1, ceil_mode=False)\n",
       "    (10): Conv2d(128, 256, kernel_size=(3, 3), stride=(1, 1), padding=(1, 1))\n",
       "    (11): ReLU(inplace=True)\n",
       "    (12): Conv2d(256, 256, kernel_size=(3, 3), stride=(1, 1), padding=(1, 1))\n",
       "    (13): ReLU(inplace=True)\n",
       "    (14): Conv2d(256, 256, kernel_size=(3, 3), stride=(1, 1), padding=(1, 1))\n",
       "    (15): ReLU(inplace=True)\n",
       "    (16): Conv2d(256, 256, kernel_size=(3, 3), stride=(1, 1), padding=(1, 1))\n",
       "    (17): ReLU(inplace=True)\n",
       "    (18): MaxPool2d(kernel_size=2, stride=2, padding=0, dilation=1, ceil_mode=False)\n",
       "    (19): Conv2d(256, 512, kernel_size=(3, 3), stride=(1, 1), padding=(1, 1))\n",
       "    (20): ReLU(inplace=True)\n",
       "    (21): Conv2d(512, 512, kernel_size=(3, 3), stride=(1, 1), padding=(1, 1))\n",
       "    (22): ReLU(inplace=True)\n",
       "    (23): Conv2d(512, 512, kernel_size=(3, 3), stride=(1, 1), padding=(1, 1))\n",
       "    (24): ReLU(inplace=True)\n",
       "    (25): Conv2d(512, 512, kernel_size=(3, 3), stride=(1, 1), padding=(1, 1))\n",
       "    (26): ReLU(inplace=True)\n",
       "    (27): MaxPool2d(kernel_size=2, stride=2, padding=0, dilation=1, ceil_mode=False)\n",
       "    (28): Conv2d(512, 512, kernel_size=(3, 3), stride=(1, 1), padding=(1, 1))\n",
       "    (29): ReLU(inplace=True)\n",
       "    (30): Conv2d(512, 512, kernel_size=(3, 3), stride=(1, 1), padding=(1, 1))\n",
       "    (31): ReLU(inplace=True)\n",
       "    (32): Conv2d(512, 512, kernel_size=(3, 3), stride=(1, 1), padding=(1, 1))\n",
       "    (33): ReLU(inplace=True)\n",
       "    (34): Conv2d(512, 512, kernel_size=(3, 3), stride=(1, 1), padding=(1, 1))\n",
       "    (35): ReLU(inplace=True)\n",
       "    (36): MaxPool2d(kernel_size=2, stride=2, padding=0, dilation=1, ceil_mode=False)\n",
       "  )\n",
       "  (avgpool): AdaptiveAvgPool2d(output_size=(7, 7))\n",
       "  (classifier): Sequential(\n",
       "    (0): Linear(in_features=25088, out_features=4096, bias=True)\n",
       "    (1): ReLU(inplace=True)\n",
       "    (2): Dropout(p=0.5, inplace=False)\n",
       "    (3): Linear(in_features=4096, out_features=4096, bias=True)\n",
       "    (4): ReLU(inplace=True)\n",
       "    (5): Dropout(p=0.5, inplace=False)\n",
       "    (6): Linear(in_features=4096, out_features=1000, bias=True)\n",
       "  )\n",
       ")"
      ]
     },
     "execution_count": 6,
     "metadata": {},
     "output_type": "execute_result"
    }
   ],
   "source": [
    "from torchvision.models import VGG19_Weights\n",
    "model = torch.hub.load('pytorch/vision:v0.10.0', \n",
    "                        'vgg19', \n",
    "                        weights=VGG19_Weights.IMAGENET1K_V1)\n",
    "model.to(device) # send the model to the chosen device ('cpu' or 'cuda')\n",
    "model.eval() # set the model to evaluation mode, since you are not training it"
   ]
  },
  {
   "attachments": {},
   "cell_type": "markdown",
   "metadata": {},
   "source": [
    "### Test PCA specifiyng explained variance percentage"
   ]
  },
  {
   "cell_type": "code",
   "execution_count": 33,
   "metadata": {},
   "outputs": [],
   "source": [
    "def fit_pca(feature_extractor, dataloader):\n",
    "\n",
    "    # Define PCA parameters\n",
    "    pca = IncrementalPCA(n_components=0.30, batch_size=batch_size)\n",
    "\n",
    "    # Fit PCA to batch\n",
    "    for _, d in tqdm(enumerate(dataloader), total=len(dataloader)):\n",
    "        # Extract features\n",
    "        ft = feature_extractor(d)\n",
    "        # Flatten the features\n",
    "        ft = torch.hstack([torch.flatten(l, start_dim=1) for l in ft.values()])\n",
    "        # Fit PCA to batch\n",
    "        pca.partial_fit(ft.detach().cpu().numpy())\n",
    "    return pca"
   ]
  },
  {
   "cell_type": "code",
   "execution_count": null,
   "metadata": {},
   "outputs": [],
   "source": [
    "pca = fit_pca(feature_extractor, train_imgs_dataloader)"
   ]
  },
  {
   "cell_type": "code",
   "execution_count": 35,
   "metadata": {},
   "outputs": [
    {
     "name": "stdout",
     "output_type": "stream",
     "text": [
      "Comulative Explained variance ratio:  0.39269976662655187\n",
      "Number of components:  100\n"
     ]
    }
   ],
   "source": [
    "print(\"Comulative Explained variance ratio: \", sum(pca.explained_variance_ratio_))\n",
    "print(\"Number of components: \", pca.n_components_)"
   ]
  },
  {
   "cell_type": "code",
   "execution_count": 28,
   "metadata": {},
   "outputs": [
    {
     "data": {
      "text/plain": [
       "0.39269976662655187"
      ]
     },
     "execution_count": 28,
     "metadata": {},
     "output_type": "execute_result"
    }
   ],
   "source": [
    "sum(pca.explained_variance_ratio_)"
   ]
  },
  {
   "attachments": {},
   "cell_type": "markdown",
   "metadata": {},
   "source": [
    "## Linearly map the AlexNet image features to fMRI responses + compute pearson correlation\n"
   ]
  },
  {
   "cell_type": "code",
   "execution_count": 24,
   "metadata": {},
   "outputs": [],
   "source": [
    "# Fit linear regressions on the training data\n",
    "reg_lh = LinearRegression().fit(features_train, lh_fmri_train)\n",
    "reg_rh = LinearRegression().fit(features_train, rh_fmri_train)\n",
    "# Use fitted linear regressions to predict the validation and test fMRI data\n",
    "lh_fmri_val_pred = reg_lh.predict(features_val)\n",
    "lh_fmri_test_pred = reg_lh.predict(features_test)\n",
    "rh_fmri_val_pred = reg_rh.predict(features_val)\n",
    "rh_fmri_test_pred = reg_rh.predict(features_test)"
   ]
  },
  {
   "cell_type": "code",
   "execution_count": 238,
   "metadata": {},
   "outputs": [
    {
     "name": "stdout",
     "output_type": "stream",
     "text": [
      "(908, 19004)\n",
      "Mean: 0.00526684624765987\n",
      "Standard deviation: 0.2042430403708923\n",
      "Minimum: -1.573190950137589\n",
      "Maximum: 1.8854053635788137\n",
      "Median: 0.0017901554197446686\n",
      "25th percentile: -0.10286238085740623\n",
      "75th percentile: 0.11017703774850804\n"
     ]
    }
   ],
   "source": [
    "# Explore the numpy arrays\n",
    "print(lh_fmri_val_pred.shape)\n",
    "\n",
    "# Print summary statistics on lh_fmri_val_pred\n",
    "print('Mean: ' + format(np.mean(lh_fmri_val_pred)))\n",
    "print('Standard deviation: ' + format(np.std(lh_fmri_val_pred)))\n",
    "print('Minimum: ' + format(np.min(lh_fmri_val_pred)))\n",
    "print('Maximum: ' + format(np.max(lh_fmri_val_pred)))\n",
    "print('Median: ' + format(np.median(lh_fmri_val_pred)))\n",
    "print('25th percentile: ' + format(np.percentile(lh_fmri_val_pred, 25)))\n",
    "print('75th percentile: ' + format(np.percentile(lh_fmri_val_pred, 75)))\n"
   ]
  },
  {
   "attachments": {},
   "cell_type": "markdown",
   "metadata": {},
   "source": [
    "### Grid Search + Cross Validate"
   ]
  },
  {
   "attachments": {},
   "cell_type": "markdown",
   "metadata": {},
   "source": [
    "#### Grid Search"
   ]
  },
  {
   "cell_type": "code",
   "execution_count": null,
   "metadata": {},
   "outputs": [],
   "source": [
    "from sklearn.linear_model import Ridge\n",
    "from sklearn.model_selection import GridSearchCV\n",
    "from sklearn.model_selection import cross_validate\n",
    "from sklearn.model_selection import KFold\n",
    "from sklearn.metrics import make_scorer\n",
    "from scipy.stats import pearsonr\n",
    "import numpy as np"
   ]
  },
  {
   "cell_type": "code",
   "execution_count": null,
   "metadata": {},
   "outputs": [],
   "source": [
    "param_grid = {'alpha': [0.0001, 0.0002, 0.001, 0.01, 0.1, 1, 10, 100, 1e4, 2e4, 5e4, 1e5]}"
   ]
  },
  {
   "cell_type": "code",
   "execution_count": null,
   "metadata": {},
   "outputs": [],
   "source": [
    "def compute_perason_numpy(pred, target):\n",
    "\n",
    "    corrcoef = list()\n",
    "    for pred, target in zip(pred.T, target.T):\n",
    "\n",
    "        s, _ = pearsonr(x=pred, y=target)\n",
    "        corrcoef.append(s)\n",
    "\n",
    "    return np.array(corrcoef)"
   ]
  },
  {
   "cell_type": "code",
   "execution_count": 37,
   "metadata": {},
   "outputs": [
    {
     "name": "stdout",
     "output_type": "stream",
     "text": [
      "Fitting 5 folds for each of 12 candidates, totalling 60 fits\n",
      "Best Param: {'alpha': 100000.0}\n",
      "Best Score: 0.4003252882147619\n"
     ]
    }
   ],
   "source": [
    "grid_search_l = GridSearchCV(Ridge(), param_grid=param_grid, scoring=make_scorer(\n",
    "    lambda x, y: np.median(compute_perason_numpy(x, y))), cv=5, n_jobs=5, verbose=1)\n",
    "grid_search_l.fit(X=features_train, y=lh_fmri_train)\n",
    "print(\"Best Param: {}\".format(grid_search_l.best_params_))\n",
    "print(\"Best Score: {}\".format(grid_search_l.best_score_))"
   ]
  },
  {
   "cell_type": "code",
   "execution_count": 39,
   "metadata": {},
   "outputs": [
    {
     "name": "stdout",
     "output_type": "stream",
     "text": [
      "Best Param: {'alpha': 100000.0}\n",
      "Best Score: 0.4003252882147619\n"
     ]
    }
   ],
   "source": [
    "print(\"Best Param: {}\".format(grid_search_l.best_params_))\n",
    "print(\"Best Score: {}\".format(grid_search_l.best_score_))"
   ]
  },
  {
   "cell_type": "code",
   "execution_count": null,
   "metadata": {},
   "outputs": [],
   "source": [
    "grid_search_l.cv_results_"
   ]
  },
  {
   "cell_type": "code",
   "execution_count": 41,
   "metadata": {},
   "outputs": [
    {
     "name": "stdout",
     "output_type": "stream",
     "text": [
      "Fitting 5 folds for each of 12 candidates, totalling 60 fits\n",
      "Best Param: {'alpha': 100000.0}\n",
      "Best Score: 0.40087493401053653\n"
     ]
    }
   ],
   "source": [
    "grid_search_r = GridSearchCV(Ridge(), param_grid=param_grid, scoring=make_scorer(\n",
    "    lambda x, y: np.median(compute_perason_numpy(x, y))), cv=5, n_jobs=5, verbose=1)\n",
    "grid_search_r.fit(X=features_train, y=rh_fmri_train)\n",
    "print(\"Best Param: {}\".format(grid_search_r.best_params_))\n",
    "print(\"Best Score: {}\".format(grid_search_r.best_score_))"
   ]
  },
  {
   "cell_type": "code",
   "execution_count": null,
   "metadata": {},
   "outputs": [],
   "source": [
    "grid_search_r.cv_results_"
   ]
  },
  {
   "attachments": {},
   "cell_type": "markdown",
   "metadata": {},
   "source": [
    "#### Cross Validate"
   ]
  },
  {
   "cell_type": "code",
   "execution_count": 44,
   "metadata": {},
   "outputs": [
    {
     "name": "stderr",
     "output_type": "stream",
     "text": [
      "[Parallel(n_jobs=5)]: Using backend LokyBackend with 5 concurrent workers.\n",
      "[Parallel(n_jobs=5)]: Done   2 out of   5 | elapsed:   15.6s remaining:   23.5s\n",
      "[Parallel(n_jobs=5)]: Done   5 out of   5 | elapsed:   15.7s finished\n"
     ]
    },
    {
     "name": "stdout",
     "output_type": "stream",
     "text": [
      "<fit_time>:\t6.887,\t7.227,\t6.981,\t7.071,\t7.119\n",
      "<score_time>:\t8.284,\t7.967,\t8.241,\t8.177,\t8.139\n",
      "<test_score>:\t0.394,\t0.403,\t0.399,\t0.399,\t0.396\n"
     ]
    }
   ],
   "source": [
    "model_l = cross_validate(Ridge(alpha=1e4), X=features_train, y=lh_fmri_train, cv=5, n_jobs=5,\n",
    "                         scoring=make_scorer(lambda x, y: np.median(compute_perason_numpy(x, y))), verbose=1)\n",
    "\n",
    "for k, v in model_l.items():\n",
    "    print(\"<{}>:\\t{}\".format(k, \",\\t\".join([\"{:.3f}\".format(x) for x in v])))"
   ]
  },
  {
   "cell_type": "code",
   "execution_count": 45,
   "metadata": {},
   "outputs": [
    {
     "name": "stderr",
     "output_type": "stream",
     "text": [
      "[Parallel(n_jobs=5)]: Using backend LokyBackend with 5 concurrent workers.\n",
      "[Parallel(n_jobs=5)]: Done   2 out of   5 | elapsed:   15.5s remaining:   23.3s\n",
      "[Parallel(n_jobs=5)]: Done   5 out of   5 | elapsed:   15.7s finished\n"
     ]
    },
    {
     "name": "stdout",
     "output_type": "stream",
     "text": [
      "<fit_time>:\t7.741,\t7.713,\t7.818,\t7.778,\t7.813\n",
      "<score_time>:\t7.520,\t7.358,\t7.281,\t7.480,\t7.363\n",
      "<test_score>:\t0.394,\t0.406,\t0.400,\t0.398,\t0.396\n"
     ]
    }
   ],
   "source": [
    "model_r = cross_validate(Ridge(alpha=1e4), X=features_train, y=rh_fmri_train, cv=5, n_jobs=5,\n",
    "                         scoring=make_scorer(lambda x, y: np.median(compute_perason_numpy(x, y))), verbose=1)\n",
    "\n",
    "for k, v in model_r.items():\n",
    "    print(\"<{}>:\\t{}\".format(k, \",\\t\".join([\"{:.3f}\".format(x) for x in v])))"
   ]
  },
  {
   "attachments": {},
   "cell_type": "markdown",
   "metadata": {},
   "source": [
    "### Compute the encoding accuracy through a Pearson's correlation\n",
    "\n",
    "Here you will compute your encoding model's prediction accuracy (or encoding accuracy) through a Pearson correlation between the predicted and ground truth fMRI validation partition data. The correlation scores indicate how similar the predicted fMRI data is to the ground truth data, namely how accurate your encoding model is in predicting (encoding) fMRI responses to images.\n",
    "\n",
    "Specifically, you will correlate the activity of each predicted fMRI vertex with the activity of the corresponding ground truth fMRI vertex, across the validation partition stimulus images."
   ]
  },
  {
   "cell_type": "code",
   "execution_count": 25,
   "metadata": {},
   "outputs": [
    {
     "name": "stderr",
     "output_type": "stream",
     "text": [
      "100%|██████████| 19004/19004 [00:01<00:00, 10895.38it/s]\n",
      "100%|██████████| 20544/20544 [00:01<00:00, 11119.09it/s]\n"
     ]
    }
   ],
   "source": [
    "# Empty correlation array of shape: (LH vertices)\n",
    "lh_correlation = np.zeros(lh_fmri_val_pred.shape[1])\n",
    "# Correlate each predicted LH vertex with the corresponding ground truth vertex\n",
    "for v in tqdm(range(lh_fmri_val_pred.shape[1])):\n",
    "    lh_correlation[v] = corr(lh_fmri_val_pred[:,v], lh_fmri_val[:,v])[0] # 0 per selezionare valore e non p-value\n",
    "\n",
    "# Empty correlation array of shape: (RH vertices)\n",
    "rh_correlation = np.zeros(rh_fmri_val_pred.shape[1])\n",
    "# Correlate each predicted RH vertex with the corresponding ground truth vertex\n",
    "for v in tqdm(range(rh_fmri_val_pred.shape[1])):\n",
    "    rh_correlation[v] = corr(rh_fmri_val_pred[:,v], rh_fmri_val[:,v])[0]"
   ]
  },
  {
   "attachments": {},
   "cell_type": "markdown",
   "metadata": {},
   "source": [
    "#### Exploration"
   ]
  },
  {
   "cell_type": "code",
   "execution_count": 33,
   "metadata": {},
   "outputs": [
    {
     "data": {
      "text/html": [
       "<div>\n",
       "<style scoped>\n",
       "    .dataframe tbody tr th:only-of-type {\n",
       "        vertical-align: middle;\n",
       "    }\n",
       "\n",
       "    .dataframe tbody tr th {\n",
       "        vertical-align: top;\n",
       "    }\n",
       "\n",
       "    .dataframe thead th {\n",
       "        text-align: right;\n",
       "    }\n",
       "</style>\n",
       "<table border=\"1\" class=\"dataframe\">\n",
       "  <thead>\n",
       "    <tr style=\"text-align: right;\">\n",
       "      <th></th>\n",
       "      <th>v1</th>\n",
       "      <th>v2</th>\n",
       "      <th>v3</th>\n",
       "      <th>v4</th>\n",
       "      <th>v5</th>\n",
       "      <th>v6</th>\n",
       "      <th>v7</th>\n",
       "      <th>v8</th>\n",
       "      <th>v9</th>\n",
       "      <th>v10</th>\n",
       "      <th>...</th>\n",
       "      <th>v18995</th>\n",
       "      <th>v18996</th>\n",
       "      <th>v18997</th>\n",
       "      <th>v18998</th>\n",
       "      <th>v18999</th>\n",
       "      <th>v19000</th>\n",
       "      <th>v19001</th>\n",
       "      <th>v19002</th>\n",
       "      <th>v19003</th>\n",
       "      <th>v19004</th>\n",
       "    </tr>\n",
       "  </thead>\n",
       "  <tbody>\n",
       "    <tr>\n",
       "      <th>img1</th>\n",
       "      <td>-1.362684</td>\n",
       "      <td>0.105403</td>\n",
       "      <td>-0.634885</td>\n",
       "      <td>1.116996</td>\n",
       "      <td>-1.146858</td>\n",
       "      <td>-0.142268</td>\n",
       "      <td>-0.450975</td>\n",
       "      <td>-0.201355</td>\n",
       "      <td>-1.020084</td>\n",
       "      <td>-1.626789</td>\n",
       "      <td>...</td>\n",
       "      <td>0.456325</td>\n",
       "      <td>0.285525</td>\n",
       "      <td>-0.036011</td>\n",
       "      <td>-0.006968</td>\n",
       "      <td>-0.372848</td>\n",
       "      <td>-0.372848</td>\n",
       "      <td>-0.203140</td>\n",
       "      <td>-0.107464</td>\n",
       "      <td>-0.016841</td>\n",
       "      <td>-0.391263</td>\n",
       "    </tr>\n",
       "    <tr>\n",
       "      <th>img2</th>\n",
       "      <td>-0.755504</td>\n",
       "      <td>-0.152065</td>\n",
       "      <td>-0.998677</td>\n",
       "      <td>-0.694289</td>\n",
       "      <td>-0.747618</td>\n",
       "      <td>-0.024071</td>\n",
       "      <td>-0.754630</td>\n",
       "      <td>-0.922632</td>\n",
       "      <td>-1.615000</td>\n",
       "      <td>0.043055</td>\n",
       "      <td>...</td>\n",
       "      <td>1.297180</td>\n",
       "      <td>1.459296</td>\n",
       "      <td>1.025424</td>\n",
       "      <td>1.005834</td>\n",
       "      <td>0.723775</td>\n",
       "      <td>0.723775</td>\n",
       "      <td>-0.095860</td>\n",
       "      <td>0.136672</td>\n",
       "      <td>0.148448</td>\n",
       "      <td>0.380446</td>\n",
       "    </tr>\n",
       "    <tr>\n",
       "      <th>img3</th>\n",
       "      <td>0.864619</td>\n",
       "      <td>0.136462</td>\n",
       "      <td>-0.621923</td>\n",
       "      <td>0.023420</td>\n",
       "      <td>-1.307619</td>\n",
       "      <td>-0.460672</td>\n",
       "      <td>1.176813</td>\n",
       "      <td>-1.424946</td>\n",
       "      <td>0.715326</td>\n",
       "      <td>-0.628299</td>\n",
       "      <td>...</td>\n",
       "      <td>-0.001527</td>\n",
       "      <td>-0.010651</td>\n",
       "      <td>0.345488</td>\n",
       "      <td>0.391329</td>\n",
       "      <td>0.307540</td>\n",
       "      <td>0.307540</td>\n",
       "      <td>-0.494696</td>\n",
       "      <td>-0.472332</td>\n",
       "      <td>-0.482341</td>\n",
       "      <td>-0.727570</td>\n",
       "    </tr>\n",
       "    <tr>\n",
       "      <th>img4</th>\n",
       "      <td>1.017041</td>\n",
       "      <td>-1.972292</td>\n",
       "      <td>0.777953</td>\n",
       "      <td>0.681789</td>\n",
       "      <td>0.483763</td>\n",
       "      <td>0.744049</td>\n",
       "      <td>0.799378</td>\n",
       "      <td>1.427946</td>\n",
       "      <td>0.780410</td>\n",
       "      <td>0.517839</td>\n",
       "      <td>...</td>\n",
       "      <td>-0.145668</td>\n",
       "      <td>-0.158004</td>\n",
       "      <td>-0.662477</td>\n",
       "      <td>-0.014418</td>\n",
       "      <td>-0.469669</td>\n",
       "      <td>-0.469669</td>\n",
       "      <td>-0.132624</td>\n",
       "      <td>-0.466943</td>\n",
       "      <td>-0.257576</td>\n",
       "      <td>0.203096</td>\n",
       "    </tr>\n",
       "    <tr>\n",
       "      <th>img5</th>\n",
       "      <td>0.468452</td>\n",
       "      <td>0.146705</td>\n",
       "      <td>-0.446328</td>\n",
       "      <td>1.134242</td>\n",
       "      <td>0.489677</td>\n",
       "      <td>0.092135</td>\n",
       "      <td>0.812579</td>\n",
       "      <td>-0.042108</td>\n",
       "      <td>0.319703</td>\n",
       "      <td>0.822444</td>\n",
       "      <td>...</td>\n",
       "      <td>-0.082524</td>\n",
       "      <td>-0.621402</td>\n",
       "      <td>0.014672</td>\n",
       "      <td>0.275363</td>\n",
       "      <td>-0.293559</td>\n",
       "      <td>-0.293559</td>\n",
       "      <td>-0.402352</td>\n",
       "      <td>-0.426450</td>\n",
       "      <td>-0.489094</td>\n",
       "      <td>-0.634863</td>\n",
       "    </tr>\n",
       "    <tr>\n",
       "      <th>...</th>\n",
       "      <td>...</td>\n",
       "      <td>...</td>\n",
       "      <td>...</td>\n",
       "      <td>...</td>\n",
       "      <td>...</td>\n",
       "      <td>...</td>\n",
       "      <td>...</td>\n",
       "      <td>...</td>\n",
       "      <td>...</td>\n",
       "      <td>...</td>\n",
       "      <td>...</td>\n",
       "      <td>...</td>\n",
       "      <td>...</td>\n",
       "      <td>...</td>\n",
       "      <td>...</td>\n",
       "      <td>...</td>\n",
       "      <td>...</td>\n",
       "      <td>...</td>\n",
       "      <td>...</td>\n",
       "      <td>...</td>\n",
       "      <td>...</td>\n",
       "    </tr>\n",
       "    <tr>\n",
       "      <th>img980</th>\n",
       "      <td>-0.232234</td>\n",
       "      <td>-0.299230</td>\n",
       "      <td>0.065471</td>\n",
       "      <td>0.992445</td>\n",
       "      <td>-0.598850</td>\n",
       "      <td>0.041030</td>\n",
       "      <td>0.742306</td>\n",
       "      <td>-0.892351</td>\n",
       "      <td>-0.500703</td>\n",
       "      <td>-0.486626</td>\n",
       "      <td>...</td>\n",
       "      <td>-0.005898</td>\n",
       "      <td>0.332630</td>\n",
       "      <td>0.334730</td>\n",
       "      <td>-0.358881</td>\n",
       "      <td>-0.936860</td>\n",
       "      <td>-0.936860</td>\n",
       "      <td>-0.240730</td>\n",
       "      <td>-0.313589</td>\n",
       "      <td>-0.234719</td>\n",
       "      <td>0.337383</td>\n",
       "    </tr>\n",
       "    <tr>\n",
       "      <th>img981</th>\n",
       "      <td>0.075665</td>\n",
       "      <td>-0.148535</td>\n",
       "      <td>-0.708590</td>\n",
       "      <td>-0.623013</td>\n",
       "      <td>0.364155</td>\n",
       "      <td>-0.745957</td>\n",
       "      <td>1.450083</td>\n",
       "      <td>-1.272296</td>\n",
       "      <td>-0.610939</td>\n",
       "      <td>1.130801</td>\n",
       "      <td>...</td>\n",
       "      <td>-0.205289</td>\n",
       "      <td>-0.162905</td>\n",
       "      <td>-0.367591</td>\n",
       "      <td>-0.564725</td>\n",
       "      <td>-0.362926</td>\n",
       "      <td>-0.362926</td>\n",
       "      <td>-0.209540</td>\n",
       "      <td>-0.804745</td>\n",
       "      <td>-0.727909</td>\n",
       "      <td>-0.005451</td>\n",
       "    </tr>\n",
       "    <tr>\n",
       "      <th>img982</th>\n",
       "      <td>-0.686496</td>\n",
       "      <td>-0.551945</td>\n",
       "      <td>-2.309315</td>\n",
       "      <td>-0.965421</td>\n",
       "      <td>-0.944869</td>\n",
       "      <td>-1.542230</td>\n",
       "      <td>-0.031113</td>\n",
       "      <td>-1.798432</td>\n",
       "      <td>-0.525722</td>\n",
       "      <td>-0.456545</td>\n",
       "      <td>...</td>\n",
       "      <td>-0.980871</td>\n",
       "      <td>-0.678518</td>\n",
       "      <td>-0.724203</td>\n",
       "      <td>-0.629889</td>\n",
       "      <td>-0.163823</td>\n",
       "      <td>-0.163823</td>\n",
       "      <td>-0.931302</td>\n",
       "      <td>-0.667792</td>\n",
       "      <td>-0.594068</td>\n",
       "      <td>-0.201914</td>\n",
       "    </tr>\n",
       "    <tr>\n",
       "      <th>img983</th>\n",
       "      <td>-0.119940</td>\n",
       "      <td>0.083208</td>\n",
       "      <td>0.310171</td>\n",
       "      <td>1.142716</td>\n",
       "      <td>0.038672</td>\n",
       "      <td>-0.325022</td>\n",
       "      <td>0.788824</td>\n",
       "      <td>0.684125</td>\n",
       "      <td>-0.362595</td>\n",
       "      <td>0.128404</td>\n",
       "      <td>...</td>\n",
       "      <td>-1.395679</td>\n",
       "      <td>-1.675182</td>\n",
       "      <td>-1.117538</td>\n",
       "      <td>-0.559994</td>\n",
       "      <td>0.343039</td>\n",
       "      <td>0.343039</td>\n",
       "      <td>-0.209873</td>\n",
       "      <td>-0.123184</td>\n",
       "      <td>-0.179543</td>\n",
       "      <td>-0.510203</td>\n",
       "    </tr>\n",
       "    <tr>\n",
       "      <th>img984</th>\n",
       "      <td>-0.064329</td>\n",
       "      <td>0.726094</td>\n",
       "      <td>-0.683798</td>\n",
       "      <td>-0.210676</td>\n",
       "      <td>-2.024465</td>\n",
       "      <td>-0.381887</td>\n",
       "      <td>1.282394</td>\n",
       "      <td>0.585238</td>\n",
       "      <td>-1.422317</td>\n",
       "      <td>-1.719944</td>\n",
       "      <td>...</td>\n",
       "      <td>0.195366</td>\n",
       "      <td>-0.039021</td>\n",
       "      <td>0.084541</td>\n",
       "      <td>0.456954</td>\n",
       "      <td>1.233447</td>\n",
       "      <td>1.233447</td>\n",
       "      <td>0.306251</td>\n",
       "      <td>0.069216</td>\n",
       "      <td>0.154815</td>\n",
       "      <td>-0.585645</td>\n",
       "    </tr>\n",
       "  </tbody>\n",
       "</table>\n",
       "<p>984 rows × 19004 columns</p>\n",
       "</div>"
      ],
      "text/plain": [
       "              v1        v2        v3        v4        v5        v6        v7  \\\n",
       "img1   -1.362684  0.105403 -0.634885  1.116996 -1.146858 -0.142268 -0.450975   \n",
       "img2   -0.755504 -0.152065 -0.998677 -0.694289 -0.747618 -0.024071 -0.754630   \n",
       "img3    0.864619  0.136462 -0.621923  0.023420 -1.307619 -0.460672  1.176813   \n",
       "img4    1.017041 -1.972292  0.777953  0.681789  0.483763  0.744049  0.799378   \n",
       "img5    0.468452  0.146705 -0.446328  1.134242  0.489677  0.092135  0.812579   \n",
       "...          ...       ...       ...       ...       ...       ...       ...   \n",
       "img980 -0.232234 -0.299230  0.065471  0.992445 -0.598850  0.041030  0.742306   \n",
       "img981  0.075665 -0.148535 -0.708590 -0.623013  0.364155 -0.745957  1.450083   \n",
       "img982 -0.686496 -0.551945 -2.309315 -0.965421 -0.944869 -1.542230 -0.031113   \n",
       "img983 -0.119940  0.083208  0.310171  1.142716  0.038672 -0.325022  0.788824   \n",
       "img984 -0.064329  0.726094 -0.683798 -0.210676 -2.024465 -0.381887  1.282394   \n",
       "\n",
       "              v8        v9       v10  ...    v18995    v18996    v18997  \\\n",
       "img1   -0.201355 -1.020084 -1.626789  ...  0.456325  0.285525 -0.036011   \n",
       "img2   -0.922632 -1.615000  0.043055  ...  1.297180  1.459296  1.025424   \n",
       "img3   -1.424946  0.715326 -0.628299  ... -0.001527 -0.010651  0.345488   \n",
       "img4    1.427946  0.780410  0.517839  ... -0.145668 -0.158004 -0.662477   \n",
       "img5   -0.042108  0.319703  0.822444  ... -0.082524 -0.621402  0.014672   \n",
       "...          ...       ...       ...  ...       ...       ...       ...   \n",
       "img980 -0.892351 -0.500703 -0.486626  ... -0.005898  0.332630  0.334730   \n",
       "img981 -1.272296 -0.610939  1.130801  ... -0.205289 -0.162905 -0.367591   \n",
       "img982 -1.798432 -0.525722 -0.456545  ... -0.980871 -0.678518 -0.724203   \n",
       "img983  0.684125 -0.362595  0.128404  ... -1.395679 -1.675182 -1.117538   \n",
       "img984  0.585238 -1.422317 -1.719944  ...  0.195366 -0.039021  0.084541   \n",
       "\n",
       "          v18998    v18999    v19000    v19001    v19002    v19003    v19004  \n",
       "img1   -0.006968 -0.372848 -0.372848 -0.203140 -0.107464 -0.016841 -0.391263  \n",
       "img2    1.005834  0.723775  0.723775 -0.095860  0.136672  0.148448  0.380446  \n",
       "img3    0.391329  0.307540  0.307540 -0.494696 -0.472332 -0.482341 -0.727570  \n",
       "img4   -0.014418 -0.469669 -0.469669 -0.132624 -0.466943 -0.257576  0.203096  \n",
       "img5    0.275363 -0.293559 -0.293559 -0.402352 -0.426450 -0.489094 -0.634863  \n",
       "...          ...       ...       ...       ...       ...       ...       ...  \n",
       "img980 -0.358881 -0.936860 -0.936860 -0.240730 -0.313589 -0.234719  0.337383  \n",
       "img981 -0.564725 -0.362926 -0.362926 -0.209540 -0.804745 -0.727909 -0.005451  \n",
       "img982 -0.629889 -0.163823 -0.163823 -0.931302 -0.667792 -0.594068 -0.201914  \n",
       "img983 -0.559994  0.343039  0.343039 -0.209873 -0.123184 -0.179543 -0.510203  \n",
       "img984  0.456954  1.233447  1.233447  0.306251  0.069216  0.154815 -0.585645  \n",
       "\n",
       "[984 rows x 19004 columns]"
      ]
     },
     "execution_count": 33,
     "metadata": {},
     "output_type": "execute_result"
    }
   ],
   "source": [
    "import pandas as pd\n",
    "row_labels = ['img'+str(i+1) for i in range(lh_fmri_val.shape[0])]\n",
    "col_labels = ['v'+str(i+1) for i in range(lh_fmri_val.shape[1])]\n",
    "\n",
    "# Creazione del DataFrame\n",
    "fmri_val_df = pd.DataFrame(lh_fmri_val, index=row_labels, columns=col_labels)\n",
    "fmri_val_df"
   ]
  },
  {
   "cell_type": "code",
   "execution_count": 32,
   "metadata": {},
   "outputs": [
    {
     "data": {
      "text/html": [
       "<div>\n",
       "<style scoped>\n",
       "    .dataframe tbody tr th:only-of-type {\n",
       "        vertical-align: middle;\n",
       "    }\n",
       "\n",
       "    .dataframe tbody tr th {\n",
       "        vertical-align: top;\n",
       "    }\n",
       "\n",
       "    .dataframe thead th {\n",
       "        text-align: right;\n",
       "    }\n",
       "</style>\n",
       "<table border=\"1\" class=\"dataframe\">\n",
       "  <thead>\n",
       "    <tr style=\"text-align: right;\">\n",
       "      <th></th>\n",
       "      <th>v1</th>\n",
       "      <th>v2</th>\n",
       "      <th>v3</th>\n",
       "      <th>v4</th>\n",
       "      <th>v5</th>\n",
       "      <th>v6</th>\n",
       "      <th>v7</th>\n",
       "      <th>v8</th>\n",
       "      <th>v9</th>\n",
       "      <th>v10</th>\n",
       "      <th>...</th>\n",
       "      <th>v18995</th>\n",
       "      <th>v18996</th>\n",
       "      <th>v18997</th>\n",
       "      <th>v18998</th>\n",
       "      <th>v18999</th>\n",
       "      <th>v19000</th>\n",
       "      <th>v19001</th>\n",
       "      <th>v19002</th>\n",
       "      <th>v19003</th>\n",
       "      <th>v19004</th>\n",
       "    </tr>\n",
       "  </thead>\n",
       "  <tbody>\n",
       "    <tr>\n",
       "      <th>img1</th>\n",
       "      <td>-0.290258</td>\n",
       "      <td>-0.260766</td>\n",
       "      <td>0.398556</td>\n",
       "      <td>0.551459</td>\n",
       "      <td>0.203292</td>\n",
       "      <td>0.350700</td>\n",
       "      <td>0.090883</td>\n",
       "      <td>0.560466</td>\n",
       "      <td>0.076039</td>\n",
       "      <td>-0.470655</td>\n",
       "      <td>...</td>\n",
       "      <td>-0.197475</td>\n",
       "      <td>-0.260196</td>\n",
       "      <td>-0.135420</td>\n",
       "      <td>-0.090778</td>\n",
       "      <td>-0.017567</td>\n",
       "      <td>-0.017567</td>\n",
       "      <td>-0.084397</td>\n",
       "      <td>-0.254089</td>\n",
       "      <td>-0.320621</td>\n",
       "      <td>-0.044061</td>\n",
       "    </tr>\n",
       "    <tr>\n",
       "      <th>img2</th>\n",
       "      <td>-0.231810</td>\n",
       "      <td>-0.086052</td>\n",
       "      <td>-0.523469</td>\n",
       "      <td>-0.638392</td>\n",
       "      <td>-0.316659</td>\n",
       "      <td>0.054627</td>\n",
       "      <td>-0.208353</td>\n",
       "      <td>-0.894260</td>\n",
       "      <td>-0.325251</td>\n",
       "      <td>-0.335083</td>\n",
       "      <td>...</td>\n",
       "      <td>0.265778</td>\n",
       "      <td>0.319153</td>\n",
       "      <td>0.250359</td>\n",
       "      <td>0.200973</td>\n",
       "      <td>0.152748</td>\n",
       "      <td>0.152748</td>\n",
       "      <td>0.009740</td>\n",
       "      <td>0.038726</td>\n",
       "      <td>0.053515</td>\n",
       "      <td>0.055127</td>\n",
       "    </tr>\n",
       "    <tr>\n",
       "      <th>img3</th>\n",
       "      <td>0.167813</td>\n",
       "      <td>0.094185</td>\n",
       "      <td>0.182432</td>\n",
       "      <td>-0.162009</td>\n",
       "      <td>-0.086838</td>\n",
       "      <td>0.256734</td>\n",
       "      <td>-0.065228</td>\n",
       "      <td>-0.337406</td>\n",
       "      <td>-0.042966</td>\n",
       "      <td>-0.421225</td>\n",
       "      <td>...</td>\n",
       "      <td>0.337032</td>\n",
       "      <td>0.353427</td>\n",
       "      <td>0.318367</td>\n",
       "      <td>0.299446</td>\n",
       "      <td>0.242927</td>\n",
       "      <td>0.242927</td>\n",
       "      <td>0.316172</td>\n",
       "      <td>0.378080</td>\n",
       "      <td>0.363827</td>\n",
       "      <td>0.152742</td>\n",
       "    </tr>\n",
       "    <tr>\n",
       "      <th>img4</th>\n",
       "      <td>0.179203</td>\n",
       "      <td>0.060119</td>\n",
       "      <td>-0.010540</td>\n",
       "      <td>0.228525</td>\n",
       "      <td>0.077062</td>\n",
       "      <td>0.064330</td>\n",
       "      <td>0.343766</td>\n",
       "      <td>0.627719</td>\n",
       "      <td>0.007319</td>\n",
       "      <td>-0.000853</td>\n",
       "      <td>...</td>\n",
       "      <td>0.059600</td>\n",
       "      <td>0.089175</td>\n",
       "      <td>0.078179</td>\n",
       "      <td>0.075996</td>\n",
       "      <td>0.071723</td>\n",
       "      <td>0.071723</td>\n",
       "      <td>-0.008810</td>\n",
       "      <td>0.030115</td>\n",
       "      <td>0.040529</td>\n",
       "      <td>0.010019</td>\n",
       "    </tr>\n",
       "    <tr>\n",
       "      <th>img5</th>\n",
       "      <td>0.304406</td>\n",
       "      <td>0.443552</td>\n",
       "      <td>0.005249</td>\n",
       "      <td>0.065611</td>\n",
       "      <td>-0.039035</td>\n",
       "      <td>0.138633</td>\n",
       "      <td>0.044665</td>\n",
       "      <td>-0.205013</td>\n",
       "      <td>-0.339522</td>\n",
       "      <td>0.008705</td>\n",
       "      <td>...</td>\n",
       "      <td>0.382797</td>\n",
       "      <td>0.463299</td>\n",
       "      <td>0.298858</td>\n",
       "      <td>0.198986</td>\n",
       "      <td>0.101586</td>\n",
       "      <td>0.101586</td>\n",
       "      <td>0.114196</td>\n",
       "      <td>0.156807</td>\n",
       "      <td>0.192245</td>\n",
       "      <td>-0.022523</td>\n",
       "    </tr>\n",
       "    <tr>\n",
       "      <th>...</th>\n",
       "      <td>...</td>\n",
       "      <td>...</td>\n",
       "      <td>...</td>\n",
       "      <td>...</td>\n",
       "      <td>...</td>\n",
       "      <td>...</td>\n",
       "      <td>...</td>\n",
       "      <td>...</td>\n",
       "      <td>...</td>\n",
       "      <td>...</td>\n",
       "      <td>...</td>\n",
       "      <td>...</td>\n",
       "      <td>...</td>\n",
       "      <td>...</td>\n",
       "      <td>...</td>\n",
       "      <td>...</td>\n",
       "      <td>...</td>\n",
       "      <td>...</td>\n",
       "      <td>...</td>\n",
       "      <td>...</td>\n",
       "      <td>...</td>\n",
       "    </tr>\n",
       "    <tr>\n",
       "      <th>img980</th>\n",
       "      <td>-0.049621</td>\n",
       "      <td>-0.194991</td>\n",
       "      <td>-0.377691</td>\n",
       "      <td>-0.117684</td>\n",
       "      <td>-0.192404</td>\n",
       "      <td>-0.226072</td>\n",
       "      <td>-0.064908</td>\n",
       "      <td>-0.176825</td>\n",
       "      <td>-0.045374</td>\n",
       "      <td>-0.143872</td>\n",
       "      <td>...</td>\n",
       "      <td>-0.037360</td>\n",
       "      <td>-0.060519</td>\n",
       "      <td>-0.017378</td>\n",
       "      <td>-0.001417</td>\n",
       "      <td>0.031624</td>\n",
       "      <td>0.031624</td>\n",
       "      <td>-0.009529</td>\n",
       "      <td>0.005759</td>\n",
       "      <td>0.002183</td>\n",
       "      <td>0.072564</td>\n",
       "    </tr>\n",
       "    <tr>\n",
       "      <th>img981</th>\n",
       "      <td>-0.051303</td>\n",
       "      <td>-0.079236</td>\n",
       "      <td>-0.621526</td>\n",
       "      <td>-0.791669</td>\n",
       "      <td>-0.165708</td>\n",
       "      <td>-0.275625</td>\n",
       "      <td>-0.062718</td>\n",
       "      <td>-0.615584</td>\n",
       "      <td>0.181013</td>\n",
       "      <td>0.181578</td>\n",
       "      <td>...</td>\n",
       "      <td>0.062214</td>\n",
       "      <td>0.054557</td>\n",
       "      <td>0.067791</td>\n",
       "      <td>0.023669</td>\n",
       "      <td>-0.030190</td>\n",
       "      <td>-0.030190</td>\n",
       "      <td>-0.025124</td>\n",
       "      <td>-0.154573</td>\n",
       "      <td>-0.176024</td>\n",
       "      <td>-0.111984</td>\n",
       "    </tr>\n",
       "    <tr>\n",
       "      <th>img982</th>\n",
       "      <td>0.026921</td>\n",
       "      <td>-0.110675</td>\n",
       "      <td>-1.328202</td>\n",
       "      <td>-0.824288</td>\n",
       "      <td>-0.489548</td>\n",
       "      <td>-0.511362</td>\n",
       "      <td>0.156399</td>\n",
       "      <td>-1.129562</td>\n",
       "      <td>0.256481</td>\n",
       "      <td>0.513830</td>\n",
       "      <td>...</td>\n",
       "      <td>-0.255496</td>\n",
       "      <td>-0.145004</td>\n",
       "      <td>-0.229646</td>\n",
       "      <td>-0.270375</td>\n",
       "      <td>-0.281994</td>\n",
       "      <td>-0.281994</td>\n",
       "      <td>-0.473573</td>\n",
       "      <td>-0.484659</td>\n",
       "      <td>-0.413436</td>\n",
       "      <td>-0.319208</td>\n",
       "    </tr>\n",
       "    <tr>\n",
       "      <th>img983</th>\n",
       "      <td>0.154602</td>\n",
       "      <td>0.323428</td>\n",
       "      <td>0.574714</td>\n",
       "      <td>0.690337</td>\n",
       "      <td>0.180027</td>\n",
       "      <td>-0.063628</td>\n",
       "      <td>0.121437</td>\n",
       "      <td>0.386864</td>\n",
       "      <td>-0.322702</td>\n",
       "      <td>-0.039456</td>\n",
       "      <td>...</td>\n",
       "      <td>0.020442</td>\n",
       "      <td>0.034058</td>\n",
       "      <td>0.000138</td>\n",
       "      <td>-0.028001</td>\n",
       "      <td>-0.007571</td>\n",
       "      <td>-0.007571</td>\n",
       "      <td>0.134924</td>\n",
       "      <td>0.232575</td>\n",
       "      <td>0.249692</td>\n",
       "      <td>-0.005120</td>\n",
       "    </tr>\n",
       "    <tr>\n",
       "      <th>img984</th>\n",
       "      <td>-0.056947</td>\n",
       "      <td>0.232762</td>\n",
       "      <td>-0.199307</td>\n",
       "      <td>0.151706</td>\n",
       "      <td>-0.037999</td>\n",
       "      <td>-0.041623</td>\n",
       "      <td>-0.241919</td>\n",
       "      <td>0.001214</td>\n",
       "      <td>-0.040044</td>\n",
       "      <td>-0.435984</td>\n",
       "      <td>...</td>\n",
       "      <td>0.113146</td>\n",
       "      <td>0.108532</td>\n",
       "      <td>0.146041</td>\n",
       "      <td>0.188329</td>\n",
       "      <td>0.158098</td>\n",
       "      <td>0.158098</td>\n",
       "      <td>0.228462</td>\n",
       "      <td>0.271481</td>\n",
       "      <td>0.256635</td>\n",
       "      <td>0.177602</td>\n",
       "    </tr>\n",
       "  </tbody>\n",
       "</table>\n",
       "<p>984 rows × 19004 columns</p>\n",
       "</div>"
      ],
      "text/plain": [
       "              v1        v2        v3        v4        v5        v6        v7  \\\n",
       "img1   -0.290258 -0.260766  0.398556  0.551459  0.203292  0.350700  0.090883   \n",
       "img2   -0.231810 -0.086052 -0.523469 -0.638392 -0.316659  0.054627 -0.208353   \n",
       "img3    0.167813  0.094185  0.182432 -0.162009 -0.086838  0.256734 -0.065228   \n",
       "img4    0.179203  0.060119 -0.010540  0.228525  0.077062  0.064330  0.343766   \n",
       "img5    0.304406  0.443552  0.005249  0.065611 -0.039035  0.138633  0.044665   \n",
       "...          ...       ...       ...       ...       ...       ...       ...   \n",
       "img980 -0.049621 -0.194991 -0.377691 -0.117684 -0.192404 -0.226072 -0.064908   \n",
       "img981 -0.051303 -0.079236 -0.621526 -0.791669 -0.165708 -0.275625 -0.062718   \n",
       "img982  0.026921 -0.110675 -1.328202 -0.824288 -0.489548 -0.511362  0.156399   \n",
       "img983  0.154602  0.323428  0.574714  0.690337  0.180027 -0.063628  0.121437   \n",
       "img984 -0.056947  0.232762 -0.199307  0.151706 -0.037999 -0.041623 -0.241919   \n",
       "\n",
       "              v8        v9       v10  ...    v18995    v18996    v18997  \\\n",
       "img1    0.560466  0.076039 -0.470655  ... -0.197475 -0.260196 -0.135420   \n",
       "img2   -0.894260 -0.325251 -0.335083  ...  0.265778  0.319153  0.250359   \n",
       "img3   -0.337406 -0.042966 -0.421225  ...  0.337032  0.353427  0.318367   \n",
       "img4    0.627719  0.007319 -0.000853  ...  0.059600  0.089175  0.078179   \n",
       "img5   -0.205013 -0.339522  0.008705  ...  0.382797  0.463299  0.298858   \n",
       "...          ...       ...       ...  ...       ...       ...       ...   \n",
       "img980 -0.176825 -0.045374 -0.143872  ... -0.037360 -0.060519 -0.017378   \n",
       "img981 -0.615584  0.181013  0.181578  ...  0.062214  0.054557  0.067791   \n",
       "img982 -1.129562  0.256481  0.513830  ... -0.255496 -0.145004 -0.229646   \n",
       "img983  0.386864 -0.322702 -0.039456  ...  0.020442  0.034058  0.000138   \n",
       "img984  0.001214 -0.040044 -0.435984  ...  0.113146  0.108532  0.146041   \n",
       "\n",
       "          v18998    v18999    v19000    v19001    v19002    v19003    v19004  \n",
       "img1   -0.090778 -0.017567 -0.017567 -0.084397 -0.254089 -0.320621 -0.044061  \n",
       "img2    0.200973  0.152748  0.152748  0.009740  0.038726  0.053515  0.055127  \n",
       "img3    0.299446  0.242927  0.242927  0.316172  0.378080  0.363827  0.152742  \n",
       "img4    0.075996  0.071723  0.071723 -0.008810  0.030115  0.040529  0.010019  \n",
       "img5    0.198986  0.101586  0.101586  0.114196  0.156807  0.192245 -0.022523  \n",
       "...          ...       ...       ...       ...       ...       ...       ...  \n",
       "img980 -0.001417  0.031624  0.031624 -0.009529  0.005759  0.002183  0.072564  \n",
       "img981  0.023669 -0.030190 -0.030190 -0.025124 -0.154573 -0.176024 -0.111984  \n",
       "img982 -0.270375 -0.281994 -0.281994 -0.473573 -0.484659 -0.413436 -0.319208  \n",
       "img983 -0.028001 -0.007571 -0.007571  0.134924  0.232575  0.249692 -0.005120  \n",
       "img984  0.188329  0.158098  0.158098  0.228462  0.271481  0.256635  0.177602  \n",
       "\n",
       "[984 rows x 19004 columns]"
      ]
     },
     "execution_count": 32,
     "metadata": {},
     "output_type": "execute_result"
    }
   ],
   "source": [
    "import pandas as pd\n",
    "row_labels = ['img'+str(i+1) for i in range(lh_fmri_val_pred.shape[0])]\n",
    "col_labels = ['v'+str(i+1) for i in range(lh_fmri_val_pred.shape[1])]\n",
    "\n",
    "# Creazione del DataFrame\n",
    "fmri_val_pred_df = pd.DataFrame(lh_fmri_val_pred, index=row_labels, columns=col_labels)\n",
    "fmri_val_pred_df"
   ]
  },
  {
   "cell_type": "code",
   "execution_count": 27,
   "metadata": {},
   "outputs": [
    {
     "name": "stdout",
     "output_type": "stream",
     "text": [
      "[0.30821148 0.36844289 0.58986917 0.55375606 0.25530387] Shape:  (19004,)\n"
     ]
    }
   ],
   "source": [
    "print(lh_correlation[:5], \"Shape: \", lh_correlation.shape)"
   ]
  },
  {
   "cell_type": "code",
   "execution_count": 42,
   "metadata": {},
   "outputs": [
    {
     "data": {
      "text/plain": [
       "(19004,)"
      ]
     },
     "execution_count": 42,
     "metadata": {},
     "output_type": "execute_result"
    }
   ],
   "source": [
    "lh_correlation.shape"
   ]
  },
  {
   "attachments": {},
   "cell_type": "markdown",
   "metadata": {},
   "source": [
    "### Prepare submission files"
   ]
  },
  {
   "attachments": {},
   "cell_type": "markdown",
   "metadata": {},
   "source": [
    "First, you need to convert your predicted fMRI responses to `float32` data type. This is important, since the maximum submission size is 300MB, and a `float64` data type would exceed this limit."
   ]
  },
  {
   "cell_type": "code",
   "execution_count": 95,
   "metadata": {},
   "outputs": [],
   "source": [
    "lh_fmri_val_pred = lh_fmri_val_pred.astype(np.float32)\n",
    "rh_fmri_val_pred = rh_fmri_val_pred.astype(np.float32)"
   ]
  },
  {
   "cell_type": "markdown",
   "metadata": {},
   "source": [
    "Finally, save the predicted fMRI responses to the test images in the subject-specific submission directory that we created previously (`../algonauts_2023_challenge_submission/subj0X/`), where `'X'` goes from `'1'` to `'8'`), with separate files for the predictions of each hemisphere: `lh_pred_test.npy` for the left hemisphere and `rh_pred_test.npy` for the right hemisphere.\n",
    "\n",
    "<font color='red'><b>NOTE:</b></font> these files need to contain the predicted brain responses of all vertices, and not of any ROI."
   ]
  },
  {
   "cell_type": "code",
   "execution_count": 96,
   "metadata": {},
   "outputs": [],
   "source": [
    "np.save(os.path.join(args.subject_submission_dir, 'lh_pred_val.npy'), lh_fmri_val_pred)\n",
    "np.save(os.path.join(args.subject_submission_dir, 'rh_pred_val.npy'), rh_fmri_val_pred)"
   ]
  },
  {
   "attachments": {},
   "cell_type": "markdown",
   "metadata": {},
   "source": [
    "## Evaluate the model"
   ]
  },
  {
   "cell_type": "markdown",
   "metadata": {},
   "source": [
    "To start, choose which of the 8 subjects you will use."
   ]
  },
  {
   "cell_type": "code",
   "execution_count": 7,
   "metadata": {},
   "outputs": [],
   "source": [
    "subj = 6 #@param [\"1\", \"2\", \"3\", \"4\", \"5\", \"6\", \"7\", \"8\"] {type:\"raw\", allow-input: true}"
   ]
  },
  {
   "cell_type": "markdown",
   "metadata": {},
   "source": [
    "Let's define some paths that we will need for loading and storing data."
   ]
  },
  {
   "cell_type": "code",
   "execution_count": 8,
   "metadata": {},
   "outputs": [],
   "source": [
    "class argObj:\n",
    "  def __init__(self, data_dir, parent_submission_dir, subj):\n",
    "    # Define the dir where data is stored\n",
    "    # 1 became 01\n",
    "    self.subj = format(subj, '02') # '0numberofchars'\n",
    "    self.data_dir = os.path.join(data_dir, 'subj'+self.subj)\n",
    "    self.parent_submission_dir = parent_submission_dir\n",
    "    self.subject_submission_dir = os.path.join(self.parent_submission_dir,\n",
    "        'subj'+self.subj)\n",
    "\n",
    "    # Create the submission directory if not existing\n",
    "    if not os.path.isdir(self.subject_submission_dir):\n",
    "        os.makedirs(self.subject_submission_dir)"
   ]
  },
  {
   "cell_type": "code",
   "execution_count": 41,
   "metadata": {},
   "outputs": [
    {
     "name": "stderr",
     "output_type": "stream",
     "text": [
      "100%|██████████| 8/8 [00:28<00:00,  3.59s/it]\n"
     ]
    }
   ],
   "source": [
    "correlation = np.empty(0)\n",
    "for subj in tqdm(range(1, 9), total=len(range(1, 9))):\n",
    "    args = argObj(data_dir, parent_submission_dir, subj)\n",
    "    \n",
    "    train_img_dir  = os.path.join(args.data_dir, 'training_split', 'training_images')\n",
    "    train_img_list = os.listdir(train_img_dir)\n",
    "    train_img_list.sort()\n",
    "    \n",
    "    rand_seed = 5 #@param\n",
    "    np.random.seed(rand_seed)\n",
    "\n",
    "    # Calculate how many stimulus images correspond to 90% of the training data\n",
    "    num_train = int(np.round(len(train_img_list) / 100 * 90))\n",
    "    # Shuffle all training stimulus images\n",
    "    idxs = np.arange(len(train_img_list))\n",
    "    np.random.shuffle(idxs)\n",
    "    # Assign 90% of the shuffled stimulus images to the training partition,\n",
    "    # and 10% to the test partition\n",
    "    idxs_train, idxs_val = idxs[:num_train], idxs[num_train:]\n",
    "    \n",
    "    fmri_dir = os.path.join(args.data_dir, 'training_split', 'training_fmri')\n",
    "    lh_fmri = np.load(os.path.join(fmri_dir, 'lh_training_fmri.npy'))\n",
    "    rh_fmri = np.load(os.path.join(fmri_dir, 'rh_training_fmri.npy'))\n",
    "    lh_fmri = lh_fmri[idxs_val]\n",
    "    rh_fmri = rh_fmri[idxs_val]\n",
    "    \n",
    "    lh_pred_fmri = np.load(os.path.join(args.subject_submission_dir,\"lh_pred_val.npy\"))\n",
    "    rh_pred_fmri = np.load(os.path.join(args.subject_submission_dir,\"rh_pred_val.npy\"))\n",
    "\n",
    "    # print(f'Subj{subj} - LH training fMRI data shape:')\n",
    "    # print(lh_fmri.shape)\n",
    "    # print(lh_pred_fmri.shape)\n",
    "    # print('(Training stimulus images × LH vertices)')\n",
    "\n",
    "    # print(f'Subj{subj} - \\nRH training fMRI data shape:')\n",
    "    # print(rh_fmri.shape)\n",
    "    # print(rh_pred_fmri.shape)\n",
    "    # print('(Training stimulus images × RH vertices)')\n",
    "    \n",
    "    # Empty correlation array of shape: (LH vertices)\n",
    "    lh_correlation = np.zeros(lh_pred_fmri.shape[1])\n",
    "    # Correlate each predicted LH vertex with the corresponding ground truth vertex\n",
    "    for v in range(lh_pred_fmri.shape[1]):\n",
    "        lh_correlation[v] = corr(lh_pred_fmri[:,v], lh_fmri[:,v])[0] # 0 per selezionare valore e non p-value\n",
    "\n",
    "    correlation = np.append(correlation, lh_correlation)\n",
    "    # Empty correlation array of shape: (RH vertices)\n",
    "    rh_correlation = np.zeros(rh_pred_fmri.shape[1])\n",
    "    # Correlate each predicted RH vertex with the corresponding ground truth vertex\n",
    "    for v in range(rh_pred_fmri.shape[1]):\n",
    "        rh_correlation[v] = corr(rh_pred_fmri[:,v], rh_fmri[:,v])[0]\n",
    "    correlation = np.append(correlation, rh_correlation)"
   ]
  },
  {
   "cell_type": "code",
   "execution_count": 46,
   "metadata": {},
   "outputs": [
    {
     "name": "stdout",
     "output_type": "stream",
     "text": [
      "(315997,)\n",
      "0.17844173747681108\n"
     ]
    }
   ],
   "source": [
    "print(correlation.shape)\n",
    "print(np.median(correlation))"
   ]
  },
  {
   "cell_type": "code",
   "execution_count": null,
   "metadata": {},
   "outputs": [],
   "source": [
    "for subj in range(1, 9):\n",
    "    args = argObj(data_dir, parent_submission_dir, subj)\n",
    "    fmri_dir = os.path.join(args.data_dir, 'training_split', 'training_fmri')\n",
    "    lh_fmri = np.load(os.path.join(fmri_dir, 'lh_training_fmri.npy'))\n",
    "    rh_fmri = np.load(os.path.join(fmri_dir, 'rh_training_fmri.npy'))\n",
    "\n",
    "    print(f'Subj{subj} - LH training fMRI data shape:')\n",
    "    print(lh_fmri.shape)\n",
    "    #print('(Training stimulus images × LH vertices)')\n",
    "\n",
    "    print(f'Subj{subj} - \\nRH training fMRI data shape:')\n",
    "    print(rh_fmri.shape)\n",
    "    #print('(Training stimulus images × RH vertices)')"
   ]
  },
  {
   "cell_type": "code",
   "execution_count": 101,
   "metadata": {},
   "outputs": [
    {
     "name": "stdout",
     "output_type": "stream",
     "text": [
      "Dimensioni della matrice lh per subj01 : (984, 19004)\n",
      "Dimensioni della matrice rh per subj01 : (984, 20544)\n",
      "Dimensioni della matrice lh per subj02 : (984, 19004)\n",
      "Dimensioni della matrice rh per subj02 : (984, 20544)\n",
      "Dimensioni della matrice lh per subj03 : (908, 19004)\n",
      "Dimensioni della matrice rh per subj03 : (908, 20544)\n",
      "Dimensioni della matrice lh per subj04 : (878, 19004)\n",
      "Dimensioni della matrice rh per subj04 : (878, 20544)\n",
      "Dimensioni della matrice lh per subj05 : (984, 19004)\n",
      "Dimensioni della matrice rh per subj05 : (984, 20544)\n",
      "Dimensioni della matrice lh per subj06 : (908, 18978)\n",
      "Dimensioni della matrice rh per subj06 : (908, 20220)\n",
      "Dimensioni della matrice lh per subj07 : (984, 19004)\n",
      "Dimensioni della matrice rh per subj07 : (984, 20544)\n",
      "Dimensioni della matrice lh per subj08 : (878, 18981)\n",
      "Dimensioni della matrice rh per subj08 : (878, 20530)\n"
     ]
    }
   ],
   "source": [
    "# Creo una lista con i nomi delle cartelle\n",
    "folders = [\"subj01\", \"subj02\", \"subj03\", \"subj04\", \"subj05\", \"subj06\", \"subj07\", \"subj08\"]\n",
    "# Itero sulla lista\n",
    "for folder in folders:\n",
    "  # Costruisco i percorsi dei file da importare\n",
    "  lh_file = parent_submission_dir + \"/\" + folder + \"/lh_pred_val.npy\"\n",
    "  rh_file = parent_submission_dir + \"/\" + folder + \"/rh_pred_val.npy\"\n",
    "  # Carico i file come matrici numpy\n",
    "  lh_matrix = np.load(lh_file)\n",
    "  rh_matrix = np.load(rh_file)\n",
    "  # Stampo le dimensioni delle matrici\n",
    "  print(\"Dimensioni della matrice lh per\", folder, \":\", np.shape(lh_matrix))\n",
    "  print(\"Dimensioni della matrice rh per\", folder, \":\", np.shape(rh_matrix))"
   ]
  },
  {
   "attachments": {},
   "cell_type": "markdown",
   "metadata": {},
   "source": [
    "# Evaluate the model (2)"
   ]
  },
  {
   "cell_type": "markdown",
   "metadata": {},
   "source": [
    "You are right, the tutorial only goes as far as calculating the Pearson's correlation between the predicted and ground truth fMRI responses. This is because the Challenge data release didn't include the ncsnr, which is necessary to compute the noise normalized encoding accuracy (the official Challenge evaluation metric).\n",
    "\n",
    "You can download the ncsnr from the AWS NSD data release (/natural-scenes-dataset/nsddata_betas/ppdata/subj0X/fsaverage/betas_fithrf_GLMdenoise_RR/Xh.ncsnr.mgh), and then index the vertices retained for the Challenge using the vertices mask we provide in the Challenge data release (/algonauts_2023_challenge_data/subj0X/roi_masks/Xh.all-vertices_fsaverage_space.npy)\n",
    "\n",
    "Once you have the ncsnr of the Challenge vertices, you will have to transform it into the noise ceiling based on how many trials exist (from 1 to 3) for each of the image conditions you will use to evaluate your models (i.e., the images of the Challenge train split on which you will evaluate your models). However, you cannot infer the trial number of each image condition from the Challenge data, as this data is averaged across trials of each image condition. Here you will find a vector variable for each Challenge subject indicating how many trials (from 1 to 3) were averaged to obtain the fMRI responses for each image condition of the Challenge train split. For the transformation from ncsnr to noise ceiling, please use the last equation of the \"Noise ceiling\" paragraph in the \"Functional data (NSD)\" section of the NSD data manual.\n",
    "\n",
    "Finally, once you have the noise ceiling, you can use it to calculate the noise normalized encoding accuracy (the code attached to this email is what we use to compute the Challenge evaluation metric).\n"
   ]
  },
  {
   "attachments": {},
   "cell_type": "markdown",
   "metadata": {},
   "source": [
    "## Importing ncsnr"
   ]
  },
  {
   "cell_type": "code",
   "execution_count": 42,
   "metadata": {},
   "outputs": [],
   "source": [
    "from nibabel.freesurfer.mghformat import load"
   ]
  },
  {
   "cell_type": "code",
   "execution_count": 43,
   "metadata": {},
   "outputs": [],
   "source": [
    "lh_ncsnr = load(os.path.join(args.ncsnr_dir, 'lh.ncsnr.mgh'))\n",
    "rh_ncsnr = load(os.path.join(args.ncsnr_dir, 'rh.ncsnr.mgh'))"
   ]
  },
  {
   "attachments": {},
   "cell_type": "markdown",
   "metadata": {},
   "source": [
    "Extract the ncsnr numpy 1D vector from the MGHImage object"
   ]
  },
  {
   "cell_type": "code",
   "execution_count": 44,
   "metadata": {},
   "outputs": [],
   "source": [
    "lh_ncsnr_all_vertices = lh_ncsnr.get_fdata()[:,0,0]\n",
    "rh_ncsnr_all_vertices = rh_ncsnr.get_fdata()[:,0,0]"
   ]
  },
  {
   "attachments": {},
   "cell_type": "markdown",
   "metadata": {},
   "source": [
    "### Data exploration"
   ]
  },
  {
   "cell_type": "code",
   "execution_count": 33,
   "metadata": {},
   "outputs": [
    {
     "data": {
      "text/plain": [
       "nibabel.freesurfer.mghformat.MGHImage"
      ]
     },
     "execution_count": 33,
     "metadata": {},
     "output_type": "execute_result"
    }
   ],
   "source": [
    "type(lh_ncsnr)"
   ]
  },
  {
   "cell_type": "code",
   "execution_count": 34,
   "metadata": {},
   "outputs": [
    {
     "data": {
      "text/plain": [
       "(163842, 1, 1)"
      ]
     },
     "execution_count": 34,
     "metadata": {},
     "output_type": "execute_result"
    }
   ],
   "source": [
    "lh_ncsnr.shape"
   ]
  },
  {
   "cell_type": "code",
   "execution_count": 38,
   "metadata": {},
   "outputs": [
    {
     "data": {
      "text/plain": [
       "(163842,)"
      ]
     },
     "execution_count": 38,
     "metadata": {},
     "output_type": "execute_result"
    }
   ],
   "source": [
    "lh_ncsnr_all_vertices.shape"
   ]
  },
  {
   "cell_type": "code",
   "execution_count": 45,
   "metadata": {},
   "outputs": [
    {
     "name": "stdout",
     "output_type": "stream",
     "text": [
      "[0.11920288 0.31043354 0.11843289 ... 0.03596502 0.03923279 0.11306294] shape (163842,)\n"
     ]
    }
   ],
   "source": [
    "print(lh_ncsnr.get_fdata()[:,0,0], \"shape\", lh_ncsnr.get_fdata()[:,0,0].shape)"
   ]
  },
  {
   "cell_type": "code",
   "execution_count": 71,
   "metadata": {},
   "outputs": [
    {
     "data": {
      "image/png": "[encoded data removed]",
      "text/plain": [
       "<Figure size 640x480 with 1 Axes>"
      ]
     },
     "metadata": {},
     "output_type": "display_data"
    }
   ],
   "source": [
    "_ = plt.hist(lh_ncsnr_all_vertices, bins='auto')\n",
    "plt.show()"
   ]
  },
  {
   "attachments": {},
   "cell_type": "markdown",
   "metadata": {},
   "source": [
    "## Importing fsaverage \n"
   ]
  },
  {
   "attachments": {},
   "cell_type": "markdown",
   "metadata": {},
   "source": [
    "`Xh.all-vertices_fsaverage_space.npy` is a vertices mask that associate to every of the 163842 vertices of the `fsaverage_space` a value of 1 if it is part of the `challenge space` and 0 if it is not. "
   ]
  },
  {
   "cell_type": "code",
   "execution_count": 46,
   "metadata": {},
   "outputs": [],
   "source": [
    "hemisphere = ['left', 'right'] #@param ['left', 'right'] {allow-input: true}\n",
    "\n",
    "# Load the brain surface map of all vertices\n",
    "roi_dir = os.path.join(args.data_dir, 'roi_masks',\n",
    "    hemisphere[0][0]+'h.all-vertices_fsaverage_space.npy')\n",
    "lh_fsaverage_all_vertices = np.load(roi_dir)\n",
    "\n",
    "roi_dir = os.path.join(args.data_dir, 'roi_masks',\n",
    "    hemisphere[1][0]+'h.all-vertices_fsaverage_space.npy')\n",
    "rh_fsaverage_all_vertices = np.load(roi_dir)"
   ]
  },
  {
   "attachments": {},
   "cell_type": "markdown",
   "metadata": {},
   "source": [
    "### Exploring the data"
   ]
  },
  {
   "cell_type": "code",
   "execution_count": 47,
   "metadata": {},
   "outputs": [
    {
     "data": {
      "text/plain": [
       "(163842,)"
      ]
     },
     "execution_count": 47,
     "metadata": {},
     "output_type": "execute_result"
    }
   ],
   "source": [
    "lh_fsaverage_all_vertices.shape"
   ]
  },
  {
   "attachments": {},
   "cell_type": "markdown",
   "metadata": {},
   "source": [
    "How to extract indicies of vertices in the challenge space from the fsaverage space:"
   ]
  },
  {
   "cell_type": "code",
   "execution_count": 46,
   "metadata": {},
   "outputs": [
    {
     "data": {
      "text/plain": [
       "array([     6,      7,     32, ..., 163061, 163062, 163063], dtype=int64)"
      ]
     },
     "execution_count": 46,
     "metadata": {},
     "output_type": "execute_result"
    }
   ],
   "source": [
    "np.where(lh_fsaverage_all_vertices)[0]"
   ]
  },
  {
   "cell_type": "code",
   "execution_count": 47,
   "metadata": {},
   "outputs": [
    {
     "data": {
      "text/plain": [
       "19004"
      ]
     },
     "execution_count": 47,
     "metadata": {},
     "output_type": "execute_result"
    }
   ],
   "source": [
    "len(np.where(lh_fsaverage_all_vertices)[0])"
   ]
  },
  {
   "attachments": {},
   "cell_type": "markdown",
   "metadata": {},
   "source": [
    "Altro"
   ]
  },
  {
   "cell_type": "code",
   "execution_count": 19,
   "metadata": {},
   "outputs": [],
   "source": [
    "fsaverage = datasets.fetch_surf_fsaverage('fsaverage')"
   ]
  },
  {
   "cell_type": "code",
   "execution_count": 22,
   "metadata": {},
   "outputs": [
    {
     "data": {
      "text/plain": [
       "sklearn.utils._bunch.Bunch"
      ]
     },
     "execution_count": 22,
     "metadata": {},
     "output_type": "execute_result"
    }
   ],
   "source": [
    "type(fsaverage)"
   ]
  },
  {
   "cell_type": "code",
   "execution_count": 35,
   "metadata": {},
   "outputs": [
    {
     "data": {
      "text/plain": [
       "dict_keys(['area_left', 'area_right', 'curv_left', 'curv_right', 'infl_left', 'infl_right', 'pial_left', 'pial_right', 'sphere_left', 'sphere_right', 'sulc_left', 'sulc_right', 'thick_left', 'thick_right', 'white_left', 'white_right', 'description'])"
      ]
     },
     "execution_count": 35,
     "metadata": {},
     "output_type": "execute_result"
    }
   ],
   "source": [
    "fsaverage.keys()"
   ]
  },
  {
   "attachments": {},
   "cell_type": "markdown",
   "metadata": {},
   "source": [
    "## Extract ncsnr for vertices in the challenge space"
   ]
  },
  {
   "cell_type": "code",
   "execution_count": 48,
   "metadata": {},
   "outputs": [],
   "source": [
    "lh_ncsnr_challenge_vertices = lh_ncsnr_all_vertices[np.where(lh_fsaverage_all_vertices)[0]]\n",
    "rh_ncsnr_challenge_vertices = rh_ncsnr_all_vertices[np.where(rh_fsaverage_all_vertices)[0]]"
   ]
  },
  {
   "cell_type": "code",
   "execution_count": 14,
   "metadata": {},
   "outputs": [
    {
     "name": "stdout",
     "output_type": "stream",
     "text": [
      "[0.45753199 0.30325422 0.69066209 1.016029   0.27059516] shape (19004,)\n"
     ]
    }
   ],
   "source": [
    "print(lh_ncsnr_challenge_vertices[:5], \"shape\", lh_ncsnr_challenge_vertices.shape)"
   ]
  },
  {
   "cell_type": "code",
   "execution_count": 41,
   "metadata": {},
   "outputs": [
    {
     "data": {
      "text/plain": [
       "0.501568849998995"
      ]
     },
     "execution_count": 41,
     "metadata": {},
     "output_type": "execute_result"
    }
   ],
   "source": [
    "np.mean(lh_ncsnr_challenge_vertices)"
   ]
  },
  {
   "attachments": {},
   "cell_type": "markdown",
   "metadata": {},
   "source": [
    "## Import images number of trial (needed to compute Noise Ceiling) for the ENTIRE training set"
   ]
  },
  {
   "cell_type": "code",
   "execution_count": 49,
   "metadata": {},
   "outputs": [],
   "source": [
    "image_trial_number = np.load(os.path.join(args.images_trials_dir, 'train_images_trials.npy'))"
   ]
  },
  {
   "attachments": {},
   "cell_type": "markdown",
   "metadata": {},
   "source": [
    "### Exploring the data"
   ]
  },
  {
   "cell_type": "code",
   "execution_count": 31,
   "metadata": {},
   "outputs": [
    {
     "name": "stdout",
     "output_type": "stream",
     "text": [
      "[3 3 3 ... 3 3 3] shape (9841,)\n"
     ]
    }
   ],
   "source": [
    "print(image_trial_number, \"shape\", image_trial_number.shape)\n"
   ]
  },
  {
   "cell_type": "code",
   "execution_count": 32,
   "metadata": {},
   "outputs": [
    {
     "data": {
      "text/plain": [
       "(9841,)"
      ]
     },
     "execution_count": 32,
     "metadata": {},
     "output_type": "execute_result"
    }
   ],
   "source": [
    "image_trial_number.shape"
   ]
  },
  {
   "cell_type": "code",
   "execution_count": 53,
   "metadata": {},
   "outputs": [
    {
     "data": {
      "text/plain": [
       "<function matplotlib.pyplot.show(close=None, block=None)>"
      ]
     },
     "execution_count": 53,
     "metadata": {},
     "output_type": "execute_result"
    },
    {
     "data": {
      "image/png": "[encoded data removed]",
      "text/plain": [
       "<Figure size 640x480 with 1 Axes>"
      ]
     },
     "metadata": {},
     "output_type": "display_data"
    }
   ],
   "source": [
    "plt.hist(image_trial_number)\n",
    "plt.show"
   ]
  },
  {
   "cell_type": "code",
   "execution_count": 33,
   "metadata": {},
   "outputs": [
    {
     "data": {
      "text/plain": [
       "<function matplotlib.pyplot.show(close=None, block=None)>"
      ]
     },
     "execution_count": 33,
     "metadata": {},
     "output_type": "execute_result"
    },
    {
     "data": {
      "image/png": "[encoded data removed]",
      "text/plain": [
       "<Figure size 640x480 with 1 Axes>"
      ]
     },
     "metadata": {},
     "output_type": "display_data"
    }
   ],
   "source": [
    "plt.hist(image_trial_number[idxs_val])\n",
    "plt.show"
   ]
  },
  {
   "attachments": {},
   "cell_type": "markdown",
   "metadata": {},
   "source": [
    "## Find the number of trials for the validation set only"
   ]
  },
  {
   "cell_type": "code",
   "execution_count": 50,
   "metadata": {},
   "outputs": [],
   "source": [
    "image_trial_number_val = image_trial_number[idxs_val]"
   ]
  },
  {
   "attachments": {},
   "cell_type": "markdown",
   "metadata": {},
   "source": [
    "## Compute Noise Ceilings (NC)"
   ]
  },
  {
   "attachments": {},
   "cell_type": "markdown",
   "metadata": {},
   "source": [
    "Defining:\n",
    "- A = number of images with 3 trials\n",
    "- B = number of images with 2 trials\n",
    "- C = numebr of images with 1 trial"
   ]
  },
  {
   "cell_type": "code",
   "execution_count": 51,
   "metadata": {},
   "outputs": [
    {
     "name": "stdout",
     "output_type": "stream",
     "text": [
      "834 117 33\n"
     ]
    }
   ],
   "source": [
    "A = len(image_trial_number_val[image_trial_number_val == 3])\n",
    "B = len(image_trial_number_val[image_trial_number_val == 2])\n",
    "C = len(image_trial_number_val[image_trial_number_val == 1])\n",
    "\n",
    "print(A, B, C)"
   ]
  },
  {
   "attachments": {
    "image.png": {
     "image/png": "[encoded data removed]"
    }
   },
   "cell_type": "markdown",
   "metadata": {},
   "source": [
    "Compute Noice Ceiling\n",
    "\n",
    "![image.png](attachment:image.png)"
   ]
  },
  {
   "cell_type": "code",
   "execution_count": 52,
   "metadata": {},
   "outputs": [],
   "source": [
    "lh_noise_ceiling = (lh_ncsnr_challenge_vertices ** 2) / ((lh_ncsnr_challenge_vertices ** 2) + ((A/3 + B/2 + C/1) / (A + B + C)))\n",
    "rh_noise_ceiling = (rh_ncsnr_challenge_vertices ** 2) / ((rh_ncsnr_challenge_vertices ** 2) + ((A/3 + B/2 + C/1) / (A + B + C)))"
   ]
  },
  {
   "attachments": {},
   "cell_type": "markdown",
   "metadata": {},
   "source": [
    "### NC exploration"
   ]
  },
  {
   "cell_type": "code",
   "execution_count": 56,
   "metadata": {},
   "outputs": [
    {
     "name": "stdout",
     "output_type": "stream",
     "text": [
      "[0.45753199 0.30325422 0.69066209 1.016029   0.27059516] shape (19004,)\n"
     ]
    }
   ],
   "source": [
    "print(lh_ncsnr_challenge_vertices[:5], \"shape\", lh_noise_ceiling.shape)"
   ]
  },
  {
   "cell_type": "code",
   "execution_count": 57,
   "metadata": {},
   "outputs": [
    {
     "name": "stdout",
     "output_type": "stream",
     "text": [
      "[0.38257236 0.21396401 0.58539575 0.75342749 0.17812687] shape (19004,)\n"
     ]
    }
   ],
   "source": [
    "print(lh_noise_ceiling[:5], \"shape\", lh_noise_ceiling.shape)"
   ]
  },
  {
   "cell_type": "code",
   "execution_count": 52,
   "metadata": {},
   "outputs": [
    {
     "data": {
      "text/plain": [
       "0.3814481862765162"
      ]
     },
     "execution_count": 52,
     "metadata": {},
     "output_type": "execute_result"
    }
   ],
   "source": [
    "np.mean(lh_noise_ceiling)\n",
    "np.mean(lh_noise_ceiling)"
   ]
  },
  {
   "attachments": {},
   "cell_type": "markdown",
   "metadata": {},
   "source": [
    "## Compute NOISE NORMALIZED SQUARED CORRELATION"
   ]
  },
  {
   "attachments": {},
   "cell_type": "markdown",
   "metadata": {},
   "source": [
    "Set negative correlation values to 0, so to keep the noise-normalized encoding accuracy positive"
   ]
  },
  {
   "cell_type": "code",
   "execution_count": 37,
   "metadata": {},
   "outputs": [],
   "source": [
    "lh_correlation[lh_correlation<0] = 0\n",
    "rh_correlation[rh_correlation<0] = 0"
   ]
  },
  {
   "attachments": {},
   "cell_type": "markdown",
   "metadata": {},
   "source": [
    "Square the correlation values"
   ]
  },
  {
   "cell_type": "code",
   "execution_count": 38,
   "metadata": {},
   "outputs": [],
   "source": [
    "lh_correlation = lh_correlation ** 2\n",
    "rh_correlation = rh_correlation ** 2"
   ]
  },
  {
   "cell_type": "code",
   "execution_count": 40,
   "metadata": {},
   "outputs": [
    {
     "name": "stdout",
     "output_type": "stream",
     "text": [
      "[0.09499432 0.13575016 0.34794564 0.30664577 0.06518006] shape (19004,)\n"
     ]
    }
   ],
   "source": [
    "print(lh_correlation[:5], \"shape\", lh_correlation.shape)"
   ]
  },
  {
   "cell_type": "markdown",
   "metadata": {},
   "source": [
    "Add a very small number to noise ceiling values of 0, otherwise the noise-normalized encoding accuracy cannot be calculated (division by 0 is not possible)"
   ]
  },
  {
   "cell_type": "code",
   "execution_count": 53,
   "metadata": {},
   "outputs": [],
   "source": [
    "lh_noise_ceiling[lh_noise_ceiling==0] = 1e-14\n",
    "rh_noise_ceiling[rh_noise_ceiling==0] = 1e-14"
   ]
  },
  {
   "cell_type": "code",
   "execution_count": 56,
   "metadata": {},
   "outputs": [
    {
     "name": "stdout",
     "output_type": "stream",
     "text": [
      "[0.35793416 0.19672465 0.55953275 0.73327037 0.16317555] shape (19004,)\n"
     ]
    }
   ],
   "source": [
    "print(lh_noise_ceiling[:5], \"shape\", lh_noise_ceiling.shape)"
   ]
  },
  {
   "attachments": {},
   "cell_type": "markdown",
   "metadata": {},
   "source": [
    "Compute the noise-normalized encoding accuracy"
   ]
  },
  {
   "cell_type": "code",
   "execution_count": 54,
   "metadata": {},
   "outputs": [],
   "source": [
    "lh_noise_norm_corr = np.divide(lh_correlation, lh_noise_ceiling)\n",
    "rh_noise_norm_corr = np.divide(rh_correlation, rh_noise_ceiling)"
   ]
  },
  {
   "cell_type": "code",
   "execution_count": 55,
   "metadata": {},
   "outputs": [
    {
     "name": "stdout",
     "output_type": "stream",
     "text": [
      "[0.26539606 0.6900516  0.62185036 0.41818923 0.3994475 ] shape (19004,)\n"
     ]
    }
   ],
   "source": [
    "print(lh_noise_norm_corr[:5], \"shape\", lh_noise_norm_corr.shape)"
   ]
  },
  {
   "cell_type": "markdown",
   "metadata": {},
   "source": [
    "Set the noise-normalized encoding accuracy to 1 (100% accuracy) for those vertices in which the correlation is higher than the noise ceiling, to prevent encoding accuracy values higher than 100%"
   ]
  },
  {
   "cell_type": "code",
   "execution_count": 253,
   "metadata": {},
   "outputs": [],
   "source": [
    "lh_noise_norm_corr[lh_noise_norm_corr>1] = 1\n",
    "rh_noise_norm_corr[rh_noise_norm_corr>1] = 1"
   ]
  },
  {
   "cell_type": "code",
   "execution_count": null,
   "metadata": {},
   "outputs": [],
   "source": []
  },
  {
   "attachments": {},
   "cell_type": "markdown",
   "metadata": {},
   "source": [
    "Compute **median noise normalized squared correlation (in this EXAMPLE only for the singles emispheres)**"
   ]
  },
  {
   "cell_type": "code",
   "execution_count": 254,
   "metadata": {},
   "outputs": [
    {
     "name": "stdout",
     "output_type": "stream",
     "text": [
      "0.1407182913703659\n",
      "0.1262181866791165\n",
      "0.18697322868340183\n",
      "0.1670923019675932\n"
     ]
    }
   ],
   "source": [
    "print(np.median(lh_noise_norm_corr))\n",
    "print(np.median(rh_noise_norm_corr))\n",
    "print(np.mean(lh_noise_norm_corr))\n",
    "print(np.mean(rh_noise_norm_corr))"
   ]
  },
  {
   "attachments": {},
   "cell_type": "markdown",
   "metadata": {},
   "source": [
    "### Exploration"
   ]
  },
  {
   "cell_type": "code",
   "execution_count": 267,
   "metadata": {},
   "outputs": [
    {
     "name": "stdout",
     "output_type": "stream",
     "text": [
      "Subject -> lh_3 | Median Noise Normalized Squared Correlation Percentage -> 14.07182913703659\n",
      "Subject -> rh_3 | Median Noise Normalized Squared Correlation Percentage -> 12.621818667911649\n"
     ]
    }
   ],
   "source": [
    "noise_norm_corr_dict = {}\n",
    "noise_norm_corr_dict[f'lh_{subj}'] = lh_noise_norm_corr\n",
    "noise_norm_corr_dict[f'rh_{subj}'] = rh_noise_norm_corr\n",
    "for key, value in noise_norm_corr_dict.items():\n",
    "    print(\"Subject ->\",key,\"| Median Noise Normalized Squared Correlation Percentage ->\",np.median(value)*100)"
   ]
  },
  {
   "cell_type": "code",
   "execution_count": 268,
   "metadata": {},
   "outputs": [
    {
     "name": "stdout",
     "output_type": "stream",
     "text": [
      "0.1330357811214621\n"
     ]
    }
   ],
   "source": [
    "concatenated_array = np.concatenate(list(noise_norm_corr_dict.values()))\n",
    "median = np.median(concatenated_array)\n",
    "\n",
    "print(median)"
   ]
  },
  {
   "cell_type": "code",
   "execution_count": 270,
   "metadata": {},
   "outputs": [
    {
     "name": "stdout",
     "output_type": "stream",
     "text": [
      "range(1, 9)\n"
     ]
    }
   ],
   "source": [
    "print(range(1, 9))"
   ]
  }
 ],
 "metadata": {
  "kernelspec": {
   "display_name": "algonauts",
   "language": "python",
   "name": "python3"
  },
  "language_info": {
   "codemirror_mode": {
    "name": "ipython",
    "version": 3
   },
   "file_extension": ".py",
   "mimetype": "text/x-python",
   "name": "python",
   "nbconvert_exporter": "python",
   "pygments_lexer": "ipython3",
   "version": "3.9.16"
  },
  "orig_nbformat": 4
 },
 "nbformat": 4,
 "nbformat_minor": 2
}
